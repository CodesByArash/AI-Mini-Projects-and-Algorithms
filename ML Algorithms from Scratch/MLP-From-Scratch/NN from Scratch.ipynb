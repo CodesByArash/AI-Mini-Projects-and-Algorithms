{
 "cells": [
  {
   "cell_type": "code",
   "execution_count": 499,
   "id": "03e073d4",
   "metadata": {},
   "outputs": [],
   "source": [
    "import numpy as np\n",
    "import matplotlib.pyplot as plt\n",
    "from sklearn.datasets import load_iris\n",
    "from sklearn.model_selection import train_test_split\n",
    "from sklearn.preprocessing import OneHotEncoder\n",
    "from sklearn.preprocessing import StandardScaler"
   ]
  },
  {
   "cell_type": "code",
   "execution_count": 504,
   "id": "0722f01b",
   "metadata": {},
   "outputs": [],
   "source": [
    "class Layer:\n",
    "    def __init__(self,features,neurons,activationfunc):\n",
    "        self.features            = features\n",
    "        self.neurons             = neurons\n",
    "        self.activationfunc      = activationfunc\n",
    "        self.weight              = np.random.randn(self.neurons, self.features)\n",
    "        self.bias                = np.random.randn(neurons,1)\n",
    "        self.input               = np.zeros([self.features,1])\n",
    "        self.output              = np.zeros([self.features,1])\n",
    "        self.activation          = np.zeros([self.features,1])\n",
    "\n",
    "    def activationReLu(self,inputs):\n",
    "        return np.maximum(inputs,0)\n",
    "        \n",
    "    def derivativeReLu(self,inputs):\n",
    "        return inputs > 0\n",
    "    \n",
    "    def activationSoftMax(self, inputs):\n",
    "        exp_values = np.exp(inputs - np.max(inputs))\n",
    "        return exp_values / np.sum(exp_values)\n",
    "        \n",
    "    def derivativeSofMax(self):\n",
    "        return self.activation*(1-self.activation)\n",
    "    \n",
    "    def derivativeFunction(self):\n",
    "        if self.activationfunc   == \"relu\":\n",
    "            return self.derivativeReLu(self.output)\n",
    "        elif self.activationfunc == \"softmax\":\n",
    "            return self.derivativeSofMax()\n",
    "        else :\n",
    "            return 1\n",
    "    \n",
    "    def activationFunction(self,inputs):\n",
    "        if self.activationfunc   == \"relu\":\n",
    "            return self.activationReLu(inputs)\n",
    "        elif self.activationfunc == \"softmax\":\n",
    "            return self.activationSoftMax(inputs)\n",
    "        else:\n",
    "            return inputs\n",
    "\n",
    "    def feedforward(self,input):\n",
    "        self.input = input\n",
    "        self.output      = np.dot(self.weight, input)+self.bias\n",
    "        self.activation  = self.activationFunction(self.output)  \n",
    "        return self.activation\n",
    "        \n",
    "    def backpropagation(self,dZ):\n",
    "        dEdZ = dZ*self.derivativeFunction()\n",
    "        dW   = np.dot(dEdZ, self.input.transpose())\n",
    "        dB   = dEdZ\n",
    "        dE   = np.dot(self.weight.transpose(), dEdZ)\n",
    " \n",
    "        return dW, dB, dE\n",
    "\n",
    "    def learn(self, dW, dB, learning_rate):\n",
    "        self.weight -= dW*learning_rate\n",
    "        self.bias   -= dB*learning_rate\n",
    "\n",
    "class MLP:\n",
    "    def __init__(self, input_dim:int, layer_dims:list[int], activationfuncs:list[int], learning_rate=0.001):\n",
    "        self.learning_rate = learning_rate\n",
    "        self.network = []\n",
    "        self.network.append(Layer(input_dim, layer_dims[0], activationfuncs[0]))\n",
    "        for i in range(len(layer_dims)-1):\n",
    "            self.network.append(Layer(layer_dims[i], layer_dims[i+1], activationfuncs[i]))\n",
    "\n",
    "    def feedforward(self, input):\n",
    "        out = input\n",
    "        for i in range(len(self.network)):\n",
    "            out = self.network[i].feedforward(out)        \n",
    "        return out\n",
    "\n",
    "    def backpropagation(self, ground_truth, output):\n",
    "        error = output - ground_truth\n",
    "\n",
    "        for i in reversed(range(len(self.network))):\n",
    "            dW, dB, error = self.network[i].backpropagation(error)\n",
    "            self.network[i].learn(dW, dB, self.learning_rate)\n",
    "\n",
    "    def mse_loss(self,ground_truth, output):\n",
    "        return ((ground_truth - output)**2)/2"
   ]
  },
  {
   "cell_type": "code",
   "execution_count": 505,
   "id": "8d26e55e",
   "metadata": {},
   "outputs": [],
   "source": [
    "# Load the dataset\n",
    "data = load_iris()\n",
    "\n",
    "# Split the dataset into training and testing sets\n",
    "X_train, X_test, y_train, y_test = train_test_split(data.data, data.target, test_size=0.3, random_state=42)\n",
    "\n",
    "# Convert the training and testing sets into input and labels\n",
    "train_input = X_train\n",
    "test_input = X_test\n",
    "\n",
    "# Initialize the StandardScaler\n",
    "scaler = StandardScaler()\n",
    "\n",
    "# Fit the scaler on the training data and transform both the training and testing data\n",
    "train_input = scaler.fit_transform(train_input)\n",
    "test_input = scaler.transform(test_input)\n",
    "\n",
    "\n",
    "# One-hot encode the target labels\n",
    "encoder = OneHotEncoder()\n",
    "train_labels = encoder.fit_transform(y_train.reshape(-1, 1)).toarray()\n",
    "test_labels = encoder.transform(y_test.reshape(-1, 1)).toarray()\n"
   ]
  },
  {
   "cell_type": "code",
   "execution_count": 506,
   "metadata": {},
   "outputs": [],
   "source": [
    "mlp = MLP(4, layer_dims = [64, 64, 3], activationfuncs=[ \"softmax\", \"softmax\"], learning_rate=0.007)"
   ]
  },
  {
   "cell_type": "code",
   "execution_count": 507,
   "metadata": {},
   "outputs": [],
   "source": [
    "epoch=500\n",
    "\n",
    "for i in range(epoch):\n",
    "    outs = []\n",
    "    for x, y in zip(train_input, train_labels):\n",
    "        out = mlp.feedforward(x.reshape(4,1))\n",
    "        mlp.backpropagation(y.reshape(3,1), out)\n",
    "        outs.append(out)"
   ]
  },
  {
   "cell_type": "code",
   "execution_count": 508,
   "metadata": {},
   "outputs": [],
   "source": [
    "outs= []\n",
    "for input, label in zip(train_input, y_train):\n",
    "    out = mlp.feedforward(input.reshape(4,1))\n",
    "    outs.append(np.argmax(out))"
   ]
  },
  {
   "cell_type": "code",
   "execution_count": 509,
   "metadata": {},
   "outputs": [
    {
     "data": {
      "text/plain": [
       "array([1, 2, 2, 2, 2, 1, 2, 1, 0, 2, 1, 0, 0, 0, 1, 2, 0, 0, 0, 1, 0, 1,\n",
       "       2, 0, 1, 1, 0, 2, 1, 1, 1, 2, 1, 0, 1, 2, 0, 0, 1, 2, 0, 2, 0, 0,\n",
       "       2, 1, 2, 1, 2, 2, 1, 0, 0, 1, 2, 0, 0, 0, 1, 2, 0, 2, 2, 0, 2, 2,\n",
       "       2, 2, 2, 0, 2, 1, 2, 1, 1, 2, 0, 2, 1, 0, 1, 2, 2, 0, 1, 2, 2, 0,\n",
       "       2, 0, 2, 2, 2, 1, 2, 1, 2, 1, 2, 0, 1, 1, 0, 1, 2], dtype=int64)"
      ]
     },
     "execution_count": 509,
     "metadata": {},
     "output_type": "execute_result"
    }
   ],
   "source": [
    "np.array(outs).transpose()"
   ]
  },
  {
   "cell_type": "code",
   "execution_count": 510,
   "metadata": {},
   "outputs": [
    {
     "data": {
      "text/plain": [
       "array([ 0,  0,  0, -1,  0,  0,  0,  0,  0,  0,  0,  0,  0,  0,  0,  0,  0,\n",
       "        0,  0,  0,  0,  0,  0,  0,  0,  1,  0,  0,  1,  0,  0,  0,  0,  0,\n",
       "        0,  0,  0,  0,  0, -1,  0,  0,  0,  0, -1,  0,  0,  0,  0,  0,  0,\n",
       "        0,  0,  1,  0,  0,  0,  0,  0,  0,  0,  0,  0,  0, -1, -1,  0, -1,\n",
       "        0,  0,  0,  0,  0,  0,  0, -1,  0, -1,  0,  0,  0,  0,  0,  0,  0,\n",
       "        0,  0,  0,  0,  0, -1,  0,  0,  0,  0,  0, -1,  1,  0,  0,  0,  1,\n",
       "        0,  0,  0], dtype=int64)"
      ]
     },
     "execution_count": 510,
     "metadata": {},
     "output_type": "execute_result"
    }
   ],
   "source": [
    "y_train-outs"
   ]
  },
  {
   "cell_type": "code",
   "execution_count": 511,
   "metadata": {},
   "outputs": [
    {
     "data": {
      "text/plain": [
       "array([ 0,  0,  0,  0, -1,  0,  0,  0,  0,  0,  0,  0,  0,  0,  0, -1,  0,\n",
       "        0,  0,  0,  0,  0,  0,  0,  0,  0,  0,  0,  0,  0,  0,  0, -1,  0,\n",
       "        0,  1, -1,  0,  0,  0,  1, -1, -1,  0,  0], dtype=int64)"
      ]
     },
     "execution_count": 511,
     "metadata": {},
     "output_type": "execute_result"
    }
   ],
   "source": [
    "outs= []\n",
    "for input, label in zip(test_input, y_test):\n",
    "    out = mlp.feedforward(input.reshape(4,1))\n",
    "    # print(out)\n",
    "    outs.append(np.argmax(out))\n",
    "\n",
    "\n",
    "y_test-outs"
   ]
  },
  {
   "cell_type": "code",
   "execution_count": 512,
   "id": "59894727",
   "metadata": {},
   "outputs": [
    {
     "name": "stdout",
     "output_type": "stream",
     "text": [
      "(142, 3)\n"
     ]
    }
   ],
   "source": [
    "from sklearn.datasets import load_wine\n",
    "from sklearn.model_selection import train_test_split\n",
    "\n",
    "# Load the wine dataset\n",
    "data = load_wine()\n",
    "X = data.data   # Features (inputs)\n",
    "y = data.target # Target (outputs)\n",
    "\n",
    "# Split the dataset into a training set and a test set\n",
    "# test_size=0.2 means 20% of data is used for testing and 80% for training\n",
    "X_train, X_test, y_train, y_test = train_test_split(X, y, test_size=0.2, random_state=42)\n",
    "\n",
    "# Now, X_train and y_train are the training inputs and outputs,\n",
    "# and X_test and y_test are the testing inputs and outputs.\n",
    "train_input = X_train\n",
    "test_input = X_test\n",
    "\n",
    "# Initialize the StandardScaler\n",
    "scaler = StandardScaler()\n",
    "\n",
    "# Fit the scaler on the training data and transform both the training and testing data\n",
    "train_input = scaler.fit_transform(train_input)\n",
    "test_input = scaler.transform(test_input)\n",
    "\n",
    "# One-hot encode the target labels\n",
    "encoder = OneHotEncoder()\n",
    "train_labels = encoder.fit_transform(y_train.reshape(-1, 1)).toarray()\n",
    "test_labels = encoder.transform(y_test.reshape(-1, 1)).toarray()\n",
    "\n",
    "print(train_labels.shape)\n",
    "\n",
    "epoch=100\n",
    "\n",
    "mlp = MLP(13, layer_dims = [128, 64, 3], activationfuncs=[\"softmax\", \"softmax\"], learning_rate=0.05)\n",
    "\n",
    "for i in range(epoch):\n",
    "    outs = []\n",
    "    for x, y in zip(train_input, train_labels):\n",
    "        out = mlp.feedforward(x.reshape(13,1))\n",
    "        mlp.backpropagation(y.reshape(3,1), out)\n",
    "        outs.append(out)\n",
    "    # print(mlp.mse_loss(y, out))\n",
    "\n",
    "outs= []\n",
    "for input, label in zip(train_input, y_train):\n",
    "    out = mlp.feedforward(input.reshape(13,1))\n",
    "    # print(out)\n",
    "    outs.append(np.argmax(out))\n",
    "\n"
   ]
  },
  {
   "cell_type": "code",
   "execution_count": 513,
   "id": "c444a8b1",
   "metadata": {},
   "outputs": [
    {
     "data": {
      "text/plain": [
       "array([2, 2, 1, 2, 0, 1, 1, 2, 2, 0, 1, 1, 2, 0, 1, 0, 0, 2, 2, 1, 1, 0,\n",
       "       1, 0, 2, 1, 1, 2, 0, 0, 0, 2, 0, 0, 1, 2, 1, 0, 2, 2, 0, 2, 1, 1,\n",
       "       0, 1, 0, 0, 1, 0, 0, 2, 1, 1, 1, 0, 1, 1, 1, 2, 2, 0, 1, 2, 2, 1,\n",
       "       1, 0, 1, 2, 2, 1, 2, 1, 1, 1, 0, 0, 2, 0, 2, 0, 0, 1, 1, 0, 0, 0,\n",
       "       1, 0, 1, 2, 1, 1, 2, 2, 2, 1, 0, 0, 1, 2, 2, 0, 1, 2, 2, 2, 2, 1,\n",
       "       0, 1, 0, 2, 0, 0, 1, 0, 0, 2, 1, 0, 2, 2, 0, 0, 2, 2, 2, 1, 1, 1,\n",
       "       1, 1, 1, 2, 0, 1, 1, 0, 1, 1], dtype=int64)"
      ]
     },
     "execution_count": 513,
     "metadata": {},
     "output_type": "execute_result"
    }
   ],
   "source": [
    "np.array(outs).transpose()"
   ]
  },
  {
   "cell_type": "code",
   "execution_count": 514,
   "id": "d38a7791",
   "metadata": {},
   "outputs": [
    {
     "data": {
      "text/plain": [
       "array([ 0,  0,  0,  0,  0,  0,  0, -1,  0,  0,  0,  0,  0,  0,  0,  0,  0,\n",
       "        0,  0,  0,  0,  0,  0,  0,  0,  0,  0,  0,  0,  0,  0,  0,  0,  0,\n",
       "        0,  0,  0,  0,  0, -1,  0,  0,  0,  0,  0,  0,  0,  0,  0,  0,  0,\n",
       "        0,  0,  0,  0,  0,  0,  0,  0,  0,  0,  0,  0,  0,  0,  0,  0,  0,\n",
       "        0,  0,  0,  0,  0,  0,  0,  0,  0,  0,  0,  0,  0,  0,  0,  0,  0,\n",
       "        0,  0,  0,  0,  0,  0,  0,  0,  0, -1,  0,  0,  0,  0,  0,  0,  0,\n",
       "        0,  0,  0,  0,  0,  0,  0,  0,  0,  0,  0,  0,  0,  0,  0,  0,  0,\n",
       "        0,  0,  0,  0,  0,  0,  0,  0,  0,  0,  0,  0,  0,  0,  0,  0,  0,\n",
       "        0,  0,  0,  0,  0,  0], dtype=int64)"
      ]
     },
     "execution_count": 514,
     "metadata": {},
     "output_type": "execute_result"
    }
   ],
   "source": [
    "y_train-outs"
   ]
  },
  {
   "cell_type": "code",
   "execution_count": 515,
   "id": "a2dfcc75",
   "metadata": {},
   "outputs": [
    {
     "data": {
      "text/plain": [
       "array([0, 0, 0, 0, 0, 0, 0, 0, 0, 0, 0, 0, 0, 0, 0, 0, 0, 0, 0, 0, 0, 0,\n",
       "       0, 0, 0, 0, 0, 0, 0, 0, 0, 0, 0, 0, 0, 0], dtype=int64)"
      ]
     },
     "execution_count": 515,
     "metadata": {},
     "output_type": "execute_result"
    }
   ],
   "source": [
    "outs= []\n",
    "for input, label in zip(test_input, y_test):\n",
    "    out = mlp.feedforward(input.reshape(13,1))\n",
    "    # print(out)\n",
    "    outs.append(np.argmax(out))\n",
    "\n",
    "\n",
    "y_test-outs"
   ]
  },
  {
   "cell_type": "code",
   "execution_count": null,
   "id": "319f67f1",
   "metadata": {},
   "outputs": [],
   "source": []
  }
 ],
 "metadata": {
  "kernelspec": {
   "display_name": "Python 3.9.0 64-bit",
   "language": "python",
   "name": "python3"
  },
  "language_info": {
   "codemirror_mode": {
    "name": "ipython",
    "version": 3
   },
   "file_extension": ".py",
   "mimetype": "text/x-python",
   "name": "python",
   "nbconvert_exporter": "python",
   "pygments_lexer": "ipython3",
   "version": "3.11.5"
  },
  "vscode": {
   "interpreter": {
    "hash": "13cfaab314e57165490be6244dd780a39caf64916f8b5ba446816839af7ad0cb"
   }
  }
 },
 "nbformat": 4,
 "nbformat_minor": 5
}
