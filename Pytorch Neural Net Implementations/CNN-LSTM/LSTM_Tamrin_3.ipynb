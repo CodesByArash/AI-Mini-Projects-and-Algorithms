{
  "nbformat": 4,
  "nbformat_minor": 0,
  "metadata": {
    "colab": {
      "provenance": []
    },
    "kernelspec": {
      "name": "python3",
      "display_name": "Python 3"
    },
    "language_info": {
      "name": "python"
    },
    "accelerator": "GPU",
    "gpuClass": "standard"
  },
  "cells": [
    {
      "cell_type": "code",
      "execution_count": 1,
      "metadata": {
        "colab": {
          "base_uri": "https://localhost:8080/"
        },
        "id": "LfdOC6VHawQW",
        "outputId": "4a8cd4fe-cb08-49b8-ec8e-999d04140025"
      },
      "outputs": [
        {
          "output_type": "stream",
          "name": "stdout",
          "text": [
            "Drive already mounted at /content/drive; to attempt to forcibly remount, call drive.mount(\"/content/drive\", force_remount=True).\n",
            "/content/drive/MyDrive\n"
          ]
        }
      ],
      "source": [
        "from google.colab import drive\n",
        "drive.mount('/content/drive')\n",
        "%cd /content/drive/MyDrive/"
      ]
    },
    {
      "cell_type": "code",
      "source": [
        "import numpy as np\n",
        "import matplotlib.pyplot as plt\n",
        "import pandas as pd\n",
        "from sklearn.preprocessing import  MinMaxScaler\n",
        "from keras.callbacks import History \n",
        "history = History()"
      ],
      "metadata": {
        "id": "mC7_OsCGfUem"
      },
      "execution_count": 2,
      "outputs": []
    },
    {
      "cell_type": "code",
      "source": [
        "data = pd.read_csv ('AABA_2006-01-01_to_2018-01-01.csv', date_parser= True)\n",
        "data.tail()"
      ],
      "metadata": {
        "colab": {
          "base_uri": "https://localhost:8080/",
          "height": 206
        },
        "id": "cArIgeD5hgdA",
        "outputId": "a0c54ee6-371c-4551-b0a5-da2ff74508e0"
      },
      "execution_count": 3,
      "outputs": [
        {
          "output_type": "execute_result",
          "data": {
            "text/plain": [
              "            Date   Open   High    Low  Close    Volume  Name\n",
              "3014  2017-12-22  71.42  71.87  71.22  71.58  10979165  AABA\n",
              "3015  2017-12-26  70.94  71.39  69.63  69.86   8542802  AABA\n",
              "3016  2017-12-27  69.77  70.49  69.69  70.06   6345124  AABA\n",
              "3017  2017-12-28  70.12  70.32  69.51  69.82   7556877  AABA\n",
              "3018  2017-12-29  69.79  70.13  69.43  69.85   6613070  AABA"
            ],
            "text/html": [
              "\n",
              "  <div id=\"df-c7a487fe-2bb7-44ae-b49f-b3ec36996215\">\n",
              "    <div class=\"colab-df-container\">\n",
              "      <div>\n",
              "<style scoped>\n",
              "    .dataframe tbody tr th:only-of-type {\n",
              "        vertical-align: middle;\n",
              "    }\n",
              "\n",
              "    .dataframe tbody tr th {\n",
              "        vertical-align: top;\n",
              "    }\n",
              "\n",
              "    .dataframe thead th {\n",
              "        text-align: right;\n",
              "    }\n",
              "</style>\n",
              "<table border=\"1\" class=\"dataframe\">\n",
              "  <thead>\n",
              "    <tr style=\"text-align: right;\">\n",
              "      <th></th>\n",
              "      <th>Date</th>\n",
              "      <th>Open</th>\n",
              "      <th>High</th>\n",
              "      <th>Low</th>\n",
              "      <th>Close</th>\n",
              "      <th>Volume</th>\n",
              "      <th>Name</th>\n",
              "    </tr>\n",
              "  </thead>\n",
              "  <tbody>\n",
              "    <tr>\n",
              "      <th>3014</th>\n",
              "      <td>2017-12-22</td>\n",
              "      <td>71.42</td>\n",
              "      <td>71.87</td>\n",
              "      <td>71.22</td>\n",
              "      <td>71.58</td>\n",
              "      <td>10979165</td>\n",
              "      <td>AABA</td>\n",
              "    </tr>\n",
              "    <tr>\n",
              "      <th>3015</th>\n",
              "      <td>2017-12-26</td>\n",
              "      <td>70.94</td>\n",
              "      <td>71.39</td>\n",
              "      <td>69.63</td>\n",
              "      <td>69.86</td>\n",
              "      <td>8542802</td>\n",
              "      <td>AABA</td>\n",
              "    </tr>\n",
              "    <tr>\n",
              "      <th>3016</th>\n",
              "      <td>2017-12-27</td>\n",
              "      <td>69.77</td>\n",
              "      <td>70.49</td>\n",
              "      <td>69.69</td>\n",
              "      <td>70.06</td>\n",
              "      <td>6345124</td>\n",
              "      <td>AABA</td>\n",
              "    </tr>\n",
              "    <tr>\n",
              "      <th>3017</th>\n",
              "      <td>2017-12-28</td>\n",
              "      <td>70.12</td>\n",
              "      <td>70.32</td>\n",
              "      <td>69.51</td>\n",
              "      <td>69.82</td>\n",
              "      <td>7556877</td>\n",
              "      <td>AABA</td>\n",
              "    </tr>\n",
              "    <tr>\n",
              "      <th>3018</th>\n",
              "      <td>2017-12-29</td>\n",
              "      <td>69.79</td>\n",
              "      <td>70.13</td>\n",
              "      <td>69.43</td>\n",
              "      <td>69.85</td>\n",
              "      <td>6613070</td>\n",
              "      <td>AABA</td>\n",
              "    </tr>\n",
              "  </tbody>\n",
              "</table>\n",
              "</div>\n",
              "      <button class=\"colab-df-convert\" onclick=\"convertToInteractive('df-c7a487fe-2bb7-44ae-b49f-b3ec36996215')\"\n",
              "              title=\"Convert this dataframe to an interactive table.\"\n",
              "              style=\"display:none;\">\n",
              "        \n",
              "  <svg xmlns=\"http://www.w3.org/2000/svg\" height=\"24px\"viewBox=\"0 0 24 24\"\n",
              "       width=\"24px\">\n",
              "    <path d=\"M0 0h24v24H0V0z\" fill=\"none\"/>\n",
              "    <path d=\"M18.56 5.44l.94 2.06.94-2.06 2.06-.94-2.06-.94-.94-2.06-.94 2.06-2.06.94zm-11 1L8.5 8.5l.94-2.06 2.06-.94-2.06-.94L8.5 2.5l-.94 2.06-2.06.94zm10 10l.94 2.06.94-2.06 2.06-.94-2.06-.94-.94-2.06-.94 2.06-2.06.94z\"/><path d=\"M17.41 7.96l-1.37-1.37c-.4-.4-.92-.59-1.43-.59-.52 0-1.04.2-1.43.59L10.3 9.45l-7.72 7.72c-.78.78-.78 2.05 0 2.83L4 21.41c.39.39.9.59 1.41.59.51 0 1.02-.2 1.41-.59l7.78-7.78 2.81-2.81c.8-.78.8-2.07 0-2.86zM5.41 20L4 18.59l7.72-7.72 1.47 1.35L5.41 20z\"/>\n",
              "  </svg>\n",
              "      </button>\n",
              "      \n",
              "  <style>\n",
              "    .colab-df-container {\n",
              "      display:flex;\n",
              "      flex-wrap:wrap;\n",
              "      gap: 12px;\n",
              "    }\n",
              "\n",
              "    .colab-df-convert {\n",
              "      background-color: #E8F0FE;\n",
              "      border: none;\n",
              "      border-radius: 50%;\n",
              "      cursor: pointer;\n",
              "      display: none;\n",
              "      fill: #1967D2;\n",
              "      height: 32px;\n",
              "      padding: 0 0 0 0;\n",
              "      width: 32px;\n",
              "    }\n",
              "\n",
              "    .colab-df-convert:hover {\n",
              "      background-color: #E2EBFA;\n",
              "      box-shadow: 0px 1px 2px rgba(60, 64, 67, 0.3), 0px 1px 3px 1px rgba(60, 64, 67, 0.15);\n",
              "      fill: #174EA6;\n",
              "    }\n",
              "\n",
              "    [theme=dark] .colab-df-convert {\n",
              "      background-color: #3B4455;\n",
              "      fill: #D2E3FC;\n",
              "    }\n",
              "\n",
              "    [theme=dark] .colab-df-convert:hover {\n",
              "      background-color: #434B5C;\n",
              "      box-shadow: 0px 1px 3px 1px rgba(0, 0, 0, 0.15);\n",
              "      filter: drop-shadow(0px 1px 2px rgba(0, 0, 0, 0.3));\n",
              "      fill: #FFFFFF;\n",
              "    }\n",
              "  </style>\n",
              "\n",
              "      <script>\n",
              "        const buttonEl =\n",
              "          document.querySelector('#df-c7a487fe-2bb7-44ae-b49f-b3ec36996215 button.colab-df-convert');\n",
              "        buttonEl.style.display =\n",
              "          google.colab.kernel.accessAllowed ? 'block' : 'none';\n",
              "\n",
              "        async function convertToInteractive(key) {\n",
              "          const element = document.querySelector('#df-c7a487fe-2bb7-44ae-b49f-b3ec36996215');\n",
              "          const dataTable =\n",
              "            await google.colab.kernel.invokeFunction('convertToInteractive',\n",
              "                                                     [key], {});\n",
              "          if (!dataTable) return;\n",
              "\n",
              "          const docLinkHtml = 'Like what you see? Visit the ' +\n",
              "            '<a target=\"_blank\" href=https://colab.research.google.com/notebooks/data_table.ipynb>data table notebook</a>'\n",
              "            + ' to learn more about interactive tables.';\n",
              "          element.innerHTML = '';\n",
              "          dataTable['output_type'] = 'display_data';\n",
              "          await google.colab.output.renderOutput(dataTable, element);\n",
              "          const docLink = document.createElement('div');\n",
              "          docLink.innerHTML = docLinkHtml;\n",
              "          element.appendChild(docLink);\n",
              "        }\n",
              "      </script>\n",
              "    </div>\n",
              "  </div>\n",
              "  "
            ]
          },
          "metadata": {},
          "execution_count": 3
        }
      ]
    },
    {
      "cell_type": "code",
      "source": [
        "data_training = data[data['Date'] < '2017-01-01'].copy()\n",
        "data_testing = data[data['Date'] >= '2017-01-01'].copy() \n",
        "\n",
        "training_data = data_training.drop(['Date','Low','Close','Open','Volume','Name'], axis = 1)\n",
        "\n",
        "training_data.head()\n",
        "data_testing.head()"
      ],
      "metadata": {
        "colab": {
          "base_uri": "https://localhost:8080/",
          "height": 206
        },
        "id": "z0wRoxBNhh6e",
        "outputId": "f956bf5d-ff68-4a7e-87b1-29e10514d566"
      },
      "execution_count": 4,
      "outputs": [
        {
          "output_type": "execute_result",
          "data": {
            "text/plain": [
              "            Date   Open   High    Low  Close    Volume  Name\n",
              "2768  2017-01-03  39.11  39.18  38.64  38.90   6084699  AABA\n",
              "2769  2017-01-04  39.00  40.25  38.92  40.06  11759453  AABA\n",
              "2770  2017-01-05  40.31  41.37  40.24  41.34  13122100  AABA\n",
              "2771  2017-01-06  41.25  41.34  40.85  41.23   6087644  AABA\n",
              "2772  2017-01-09  41.17  41.66  41.12  41.34   7797445  AABA"
            ],
            "text/html": [
              "\n",
              "  <div id=\"df-1e94dcf7-d106-4842-b03b-8afc9bf892bc\">\n",
              "    <div class=\"colab-df-container\">\n",
              "      <div>\n",
              "<style scoped>\n",
              "    .dataframe tbody tr th:only-of-type {\n",
              "        vertical-align: middle;\n",
              "    }\n",
              "\n",
              "    .dataframe tbody tr th {\n",
              "        vertical-align: top;\n",
              "    }\n",
              "\n",
              "    .dataframe thead th {\n",
              "        text-align: right;\n",
              "    }\n",
              "</style>\n",
              "<table border=\"1\" class=\"dataframe\">\n",
              "  <thead>\n",
              "    <tr style=\"text-align: right;\">\n",
              "      <th></th>\n",
              "      <th>Date</th>\n",
              "      <th>Open</th>\n",
              "      <th>High</th>\n",
              "      <th>Low</th>\n",
              "      <th>Close</th>\n",
              "      <th>Volume</th>\n",
              "      <th>Name</th>\n",
              "    </tr>\n",
              "  </thead>\n",
              "  <tbody>\n",
              "    <tr>\n",
              "      <th>2768</th>\n",
              "      <td>2017-01-03</td>\n",
              "      <td>39.11</td>\n",
              "      <td>39.18</td>\n",
              "      <td>38.64</td>\n",
              "      <td>38.90</td>\n",
              "      <td>6084699</td>\n",
              "      <td>AABA</td>\n",
              "    </tr>\n",
              "    <tr>\n",
              "      <th>2769</th>\n",
              "      <td>2017-01-04</td>\n",
              "      <td>39.00</td>\n",
              "      <td>40.25</td>\n",
              "      <td>38.92</td>\n",
              "      <td>40.06</td>\n",
              "      <td>11759453</td>\n",
              "      <td>AABA</td>\n",
              "    </tr>\n",
              "    <tr>\n",
              "      <th>2770</th>\n",
              "      <td>2017-01-05</td>\n",
              "      <td>40.31</td>\n",
              "      <td>41.37</td>\n",
              "      <td>40.24</td>\n",
              "      <td>41.34</td>\n",
              "      <td>13122100</td>\n",
              "      <td>AABA</td>\n",
              "    </tr>\n",
              "    <tr>\n",
              "      <th>2771</th>\n",
              "      <td>2017-01-06</td>\n",
              "      <td>41.25</td>\n",
              "      <td>41.34</td>\n",
              "      <td>40.85</td>\n",
              "      <td>41.23</td>\n",
              "      <td>6087644</td>\n",
              "      <td>AABA</td>\n",
              "    </tr>\n",
              "    <tr>\n",
              "      <th>2772</th>\n",
              "      <td>2017-01-09</td>\n",
              "      <td>41.17</td>\n",
              "      <td>41.66</td>\n",
              "      <td>41.12</td>\n",
              "      <td>41.34</td>\n",
              "      <td>7797445</td>\n",
              "      <td>AABA</td>\n",
              "    </tr>\n",
              "  </tbody>\n",
              "</table>\n",
              "</div>\n",
              "      <button class=\"colab-df-convert\" onclick=\"convertToInteractive('df-1e94dcf7-d106-4842-b03b-8afc9bf892bc')\"\n",
              "              title=\"Convert this dataframe to an interactive table.\"\n",
              "              style=\"display:none;\">\n",
              "        \n",
              "  <svg xmlns=\"http://www.w3.org/2000/svg\" height=\"24px\"viewBox=\"0 0 24 24\"\n",
              "       width=\"24px\">\n",
              "    <path d=\"M0 0h24v24H0V0z\" fill=\"none\"/>\n",
              "    <path d=\"M18.56 5.44l.94 2.06.94-2.06 2.06-.94-2.06-.94-.94-2.06-.94 2.06-2.06.94zm-11 1L8.5 8.5l.94-2.06 2.06-.94-2.06-.94L8.5 2.5l-.94 2.06-2.06.94zm10 10l.94 2.06.94-2.06 2.06-.94-2.06-.94-.94-2.06-.94 2.06-2.06.94z\"/><path d=\"M17.41 7.96l-1.37-1.37c-.4-.4-.92-.59-1.43-.59-.52 0-1.04.2-1.43.59L10.3 9.45l-7.72 7.72c-.78.78-.78 2.05 0 2.83L4 21.41c.39.39.9.59 1.41.59.51 0 1.02-.2 1.41-.59l7.78-7.78 2.81-2.81c.8-.78.8-2.07 0-2.86zM5.41 20L4 18.59l7.72-7.72 1.47 1.35L5.41 20z\"/>\n",
              "  </svg>\n",
              "      </button>\n",
              "      \n",
              "  <style>\n",
              "    .colab-df-container {\n",
              "      display:flex;\n",
              "      flex-wrap:wrap;\n",
              "      gap: 12px;\n",
              "    }\n",
              "\n",
              "    .colab-df-convert {\n",
              "      background-color: #E8F0FE;\n",
              "      border: none;\n",
              "      border-radius: 50%;\n",
              "      cursor: pointer;\n",
              "      display: none;\n",
              "      fill: #1967D2;\n",
              "      height: 32px;\n",
              "      padding: 0 0 0 0;\n",
              "      width: 32px;\n",
              "    }\n",
              "\n",
              "    .colab-df-convert:hover {\n",
              "      background-color: #E2EBFA;\n",
              "      box-shadow: 0px 1px 2px rgba(60, 64, 67, 0.3), 0px 1px 3px 1px rgba(60, 64, 67, 0.15);\n",
              "      fill: #174EA6;\n",
              "    }\n",
              "\n",
              "    [theme=dark] .colab-df-convert {\n",
              "      background-color: #3B4455;\n",
              "      fill: #D2E3FC;\n",
              "    }\n",
              "\n",
              "    [theme=dark] .colab-df-convert:hover {\n",
              "      background-color: #434B5C;\n",
              "      box-shadow: 0px 1px 3px 1px rgba(0, 0, 0, 0.15);\n",
              "      filter: drop-shadow(0px 1px 2px rgba(0, 0, 0, 0.3));\n",
              "      fill: #FFFFFF;\n",
              "    }\n",
              "  </style>\n",
              "\n",
              "      <script>\n",
              "        const buttonEl =\n",
              "          document.querySelector('#df-1e94dcf7-d106-4842-b03b-8afc9bf892bc button.colab-df-convert');\n",
              "        buttonEl.style.display =\n",
              "          google.colab.kernel.accessAllowed ? 'block' : 'none';\n",
              "\n",
              "        async function convertToInteractive(key) {\n",
              "          const element = document.querySelector('#df-1e94dcf7-d106-4842-b03b-8afc9bf892bc');\n",
              "          const dataTable =\n",
              "            await google.colab.kernel.invokeFunction('convertToInteractive',\n",
              "                                                     [key], {});\n",
              "          if (!dataTable) return;\n",
              "\n",
              "          const docLinkHtml = 'Like what you see? Visit the ' +\n",
              "            '<a target=\"_blank\" href=https://colab.research.google.com/notebooks/data_table.ipynb>data table notebook</a>'\n",
              "            + ' to learn more about interactive tables.';\n",
              "          element.innerHTML = '';\n",
              "          dataTable['output_type'] = 'display_data';\n",
              "          await google.colab.output.renderOutput(dataTable, element);\n",
              "          const docLink = document.createElement('div');\n",
              "          docLink.innerHTML = docLinkHtml;\n",
              "          element.appendChild(docLink);\n",
              "        }\n",
              "      </script>\n",
              "    </div>\n",
              "  </div>\n",
              "  "
            ]
          },
          "metadata": {},
          "execution_count": 4
        }
      ]
    },
    {
      "cell_type": "code",
      "source": [
        "scaler = MinMaxScaler(feature_range=(0,1))\n",
        "scaled_data = scaler.fit_transform(data.drop(['Date','Low','Close','Open','Volume','Name'], axis = 1).copy())\n",
        "training_data = scaler.transform(training_data)\n",
        "training_data\n",
        "\n",
        "# scaler = MinMaxScaler(feature_range=(0,1))\n",
        "# scaled_data = scaler.fit_transform(data.drop(['Date','Low','Close','Open','Volume','Name'], axis = 1).copy())\n",
        "\n",
        "\n"
      ],
      "metadata": {
        "colab": {
          "base_uri": "https://localhost:8080/"
        },
        "id": "6uHwAcNahlXW",
        "outputId": "cb6f574c-ef5e-486f-9652-72f2ec287e6c"
      },
      "execution_count": 5,
      "outputs": [
        {
          "output_type": "execute_result",
          "data": {
            "text/plain": [
              "array([[0.4977262 ],\n",
              "       [0.50838952],\n",
              "       [0.50572369],\n",
              "       ...,\n",
              "       [0.46636349],\n",
              "       [0.4618159 ],\n",
              "       [0.4629136 ]])"
            ]
          },
          "metadata": {},
          "execution_count": 5
        }
      ]
    },
    {
      "cell_type": "code",
      "source": [
        "training_data\n",
        "\n"
      ],
      "metadata": {
        "colab": {
          "base_uri": "https://localhost:8080/"
        },
        "id": "rgOJLAoFdjfj",
        "outputId": "97d6231a-71d7-4f9b-d40a-bfac16de08fe"
      },
      "execution_count": 6,
      "outputs": [
        {
          "output_type": "execute_result",
          "data": {
            "text/plain": [
              "array([[0.4977262 ],\n",
              "       [0.50838952],\n",
              "       [0.50572369],\n",
              "       ...,\n",
              "       [0.46636349],\n",
              "       [0.4618159 ],\n",
              "       [0.4629136 ]])"
            ]
          },
          "metadata": {},
          "execution_count": 6
        }
      ]
    },
    {
      "cell_type": "code",
      "source": [
        "X_train = []\n",
        "Y_train = []"
      ],
      "metadata": {
        "id": "4AIaYcoihm0v"
      },
      "execution_count": 7,
      "outputs": []
    },
    {
      "cell_type": "code",
      "source": [
        "training_data.shape[0]"
      ],
      "metadata": {
        "colab": {
          "base_uri": "https://localhost:8080/"
        },
        "id": "rjwBJXzShoHa",
        "outputId": "9bfffab9-0136-4027-8eaa-e6a6c144ecba"
      },
      "execution_count": 8,
      "outputs": [
        {
          "output_type": "execute_result",
          "data": {
            "text/plain": [
              "2768"
            ]
          },
          "metadata": {},
          "execution_count": 8
        }
      ]
    },
    {
      "cell_type": "code",
      "source": [
        "for i in range (60, training_data.shape[0]):\n",
        "    X_train.append(training_data[i-60: i,0]) \n",
        "    Y_train.append(training_data[i,0])\n",
        "\n",
        "print(X_train[0])\n",
        "print(Y_train[0])"
      ],
      "metadata": {
        "colab": {
          "base_uri": "https://localhost:8080/"
        },
        "id": "H6ZRfFkIhpNW",
        "outputId": "0da107f6-80be-498c-a056-2e132c3c2ead"
      },
      "execution_count": 9,
      "outputs": [
        {
          "output_type": "stream",
          "name": "stdout",
          "text": [
            "[0.4977262  0.50838952 0.50572369 0.53457739 0.53598871 0.53097068\n",
            " 0.51481888 0.50980085 0.49553081 0.48471068 0.41837855 0.41336051\n",
            " 0.39485652 0.39077936 0.40332445 0.40771523 0.40410851 0.40442214\n",
            " 0.40379489 0.40332445 0.40018818 0.40175631 0.38529089 0.38372275\n",
            " 0.3703936  0.37509801 0.37447075 0.36255292 0.36004391 0.36615964\n",
            " 0.37400031 0.37509801 0.37102086 0.36992316 0.37415713 0.37917516\n",
            " 0.37415713 0.37211855 0.36851184 0.35973028 0.35486906 0.35424181\n",
            " 0.35220323 0.35628038 0.3460875  0.34248079 0.33903089 0.33699232\n",
            " 0.33746276 0.34185354 0.33558099 0.32742669 0.33636506 0.33401286\n",
            " 0.33605143 0.35236004 0.35800533 0.35439862 0.36098479 0.36741414]\n",
            "0.3661596361925671\n"
          ]
        }
      ]
    },
    {
      "cell_type": "code",
      "source": [
        "X_train, Y_train = np.array(X_train), np.array(Y_train)"
      ],
      "metadata": {
        "id": "BI8ZW7IqhqWk"
      },
      "execution_count": 10,
      "outputs": []
    },
    {
      "cell_type": "code",
      "source": [
        "X_train.shape"
      ],
      "metadata": {
        "colab": {
          "base_uri": "https://localhost:8080/"
        },
        "id": "D3VTephKhr6G",
        "outputId": "57e89200-c094-4bd7-a0c3-13853cdbd483"
      },
      "execution_count": 11,
      "outputs": [
        {
          "output_type": "execute_result",
          "data": {
            "text/plain": [
              "(2708, 60)"
            ]
          },
          "metadata": {},
          "execution_count": 11
        }
      ]
    },
    {
      "cell_type": "code",
      "source": [
        "\n",
        "Y_train.shape "
      ],
      "metadata": {
        "colab": {
          "base_uri": "https://localhost:8080/"
        },
        "id": "9GPMr1F6hs29",
        "outputId": "b4701ea1-a6b2-4f21-bf75-e77a7cc8d6a7"
      },
      "execution_count": 12,
      "outputs": [
        {
          "output_type": "execute_result",
          "data": {
            "text/plain": [
              "(2708,)"
            ]
          },
          "metadata": {},
          "execution_count": 12
        }
      ]
    },
    {
      "cell_type": "code",
      "source": [
        "from tensorflow.keras import Sequential\n",
        "from tensorflow.keras.layers import Dense, LSTM, Dropout"
      ],
      "metadata": {
        "id": "aSvLfsfehtz8"
      },
      "execution_count": 13,
      "outputs": []
    },
    {
      "cell_type": "code",
      "source": [],
      "metadata": {
        "id": "qh9ewWneuwYW"
      },
      "execution_count": 13,
      "outputs": []
    },
    {
      "cell_type": "code",
      "source": [
        "regressor3 = Sequential()\n",
        "regressor3.add(LSTM(units=15, activation= \"tanh\", return_sequences=False, input_shape = (X_train.shape[1] , 1)))\n",
        "regressor3.add(Dense(units = 25))\n",
        "regressor3.add(Dense(units = 1))\n",
        "regressor3.summary()"
      ],
      "metadata": {
        "colab": {
          "base_uri": "https://localhost:8080/"
        },
        "id": "-ZZheZCLm0KI",
        "outputId": "c26e7cd4-077f-4e66-a04c-0ccd88e673ef"
      },
      "execution_count": 14,
      "outputs": [
        {
          "output_type": "stream",
          "name": "stdout",
          "text": [
            "Model: \"sequential\"\n",
            "_________________________________________________________________\n",
            " Layer (type)                Output Shape              Param #   \n",
            "=================================================================\n",
            " lstm (LSTM)                 (None, 15)                1020      \n",
            "                                                                 \n",
            " dense (Dense)               (None, 25)                400       \n",
            "                                                                 \n",
            " dense_1 (Dense)             (None, 1)                 26        \n",
            "                                                                 \n",
            "=================================================================\n",
            "Total params: 1,446\n",
            "Trainable params: 1,446\n",
            "Non-trainable params: 0\n",
            "_________________________________________________________________\n"
          ]
        }
      ]
    },
    {
      "cell_type": "code",
      "source": [
        "regressor2 = Sequential()\n",
        "regressor2.add(LSTM(units=25, activation= \"tanh\", return_sequences=False, input_shape = (X_train.shape[1] , 1)))\n",
        "regressor2.add(Dense(units = 25))\n",
        "regressor2.add(Dense(units = 1))\n",
        "regressor2.summary()"
      ],
      "metadata": {
        "colab": {
          "base_uri": "https://localhost:8080/"
        },
        "id": "QyLFeVbZhv6I",
        "outputId": "b9d6cad6-083b-45e8-9213-6a7661c86d20"
      },
      "execution_count": 15,
      "outputs": [
        {
          "output_type": "stream",
          "name": "stdout",
          "text": [
            "Model: \"sequential_1\"\n",
            "_________________________________________________________________\n",
            " Layer (type)                Output Shape              Param #   \n",
            "=================================================================\n",
            " lstm_1 (LSTM)               (None, 25)                2700      \n",
            "                                                                 \n",
            " dense_2 (Dense)             (None, 25)                650       \n",
            "                                                                 \n",
            " dense_3 (Dense)             (None, 1)                 26        \n",
            "                                                                 \n",
            "=================================================================\n",
            "Total params: 3,376\n",
            "Trainable params: 3,376\n",
            "Non-trainable params: 0\n",
            "_________________________________________________________________\n"
          ]
        }
      ]
    },
    {
      "cell_type": "code",
      "source": [
        "regressor = Sequential()\n",
        "regressor.add(LSTM(units=25, activation= \"tanh\", return_sequences= True, input_shape = (X_train.shape[1] , 1)))\n",
        "regressor.add(LSTM(units=25, activation= \"tanh\")) \n",
        "regressor.add(Dense(units = 25))\n",
        "regressor.add(Dense(units = 1))\n",
        "\n",
        "\n",
        "regressor.summary()"
      ],
      "metadata": {
        "colab": {
          "base_uri": "https://localhost:8080/"
        },
        "id": "ERJy4iUAhu_B",
        "outputId": "21ff446e-23d4-46e0-de6a-de8413369320"
      },
      "execution_count": 16,
      "outputs": [
        {
          "output_type": "stream",
          "name": "stdout",
          "text": [
            "Model: \"sequential_2\"\n",
            "_________________________________________________________________\n",
            " Layer (type)                Output Shape              Param #   \n",
            "=================================================================\n",
            " lstm_2 (LSTM)               (None, 60, 25)            2700      \n",
            "                                                                 \n",
            " lstm_3 (LSTM)               (None, 25)                5100      \n",
            "                                                                 \n",
            " dense_4 (Dense)             (None, 25)                650       \n",
            "                                                                 \n",
            " dense_5 (Dense)             (None, 1)                 26        \n",
            "                                                                 \n",
            "=================================================================\n",
            "Total params: 8,476\n",
            "Trainable params: 8,476\n",
            "Non-trainable params: 0\n",
            "_________________________________________________________________\n"
          ]
        }
      ]
    },
    {
      "cell_type": "code",
      "source": [
        "regressor5 = Sequential()\n",
        "regressor5.add(LSTM(units=50, activation= \"tanh\", return_sequences= True, input_shape = (X_train.shape[1] , 1)))\n",
        "regressor5.add(LSTM(units=50, activation= \"tanh\")) \n",
        "regressor5.add(Dense(units = 25))\n",
        "regressor5.add(Dense(units = 1))\n",
        "\n",
        "\n",
        "regressor5.summary()"
      ],
      "metadata": {
        "colab": {
          "base_uri": "https://localhost:8080/"
        },
        "id": "enaBDotxoiO5",
        "outputId": "9e42c460-c59a-4d94-8e78-a1369c6b23a9"
      },
      "execution_count": 17,
      "outputs": [
        {
          "output_type": "stream",
          "name": "stdout",
          "text": [
            "Model: \"sequential_3\"\n",
            "_________________________________________________________________\n",
            " Layer (type)                Output Shape              Param #   \n",
            "=================================================================\n",
            " lstm_4 (LSTM)               (None, 60, 50)            10400     \n",
            "                                                                 \n",
            " lstm_5 (LSTM)               (None, 50)                20200     \n",
            "                                                                 \n",
            " dense_6 (Dense)             (None, 25)                1275      \n",
            "                                                                 \n",
            " dense_7 (Dense)             (None, 1)                 26        \n",
            "                                                                 \n",
            "=================================================================\n",
            "Total params: 31,901\n",
            "Trainable params: 31,901\n",
            "Non-trainable params: 0\n",
            "_________________________________________________________________\n"
          ]
        }
      ]
    },
    {
      "cell_type": "code",
      "source": [
        "regressor6 = Sequential()\n",
        "regressor6.add(LSTM(units=50, activation= \"tanh\", return_sequences= True, input_shape = (X_train.shape[1] , 1)))\n",
        "regressor6.add(LSTM(units=50, activation= \"tanh\")) \n",
        "regressor6.add(Dense(units = 25))\n",
        "regressor6.add(Dense(units = 1))\n",
        "\n",
        "\n",
        "regressor6.summary()"
      ],
      "metadata": {
        "colab": {
          "base_uri": "https://localhost:8080/"
        },
        "id": "2fUEZaxkLFSk",
        "outputId": "58110773-091f-4422-87b0-818ef6c51ad9"
      },
      "execution_count": 18,
      "outputs": [
        {
          "output_type": "stream",
          "name": "stdout",
          "text": [
            "Model: \"sequential_4\"\n",
            "_________________________________________________________________\n",
            " Layer (type)                Output Shape              Param #   \n",
            "=================================================================\n",
            " lstm_6 (LSTM)               (None, 60, 50)            10400     \n",
            "                                                                 \n",
            " lstm_7 (LSTM)               (None, 50)                20200     \n",
            "                                                                 \n",
            " dense_8 (Dense)             (None, 25)                1275      \n",
            "                                                                 \n",
            " dense_9 (Dense)             (None, 1)                 26        \n",
            "                                                                 \n",
            "=================================================================\n",
            "Total params: 31,901\n",
            "Trainable params: 31,901\n",
            "Non-trainable params: 0\n",
            "_________________________________________________________________\n"
          ]
        }
      ]
    },
    {
      "cell_type": "code",
      "source": [
        "regressor4 = Sequential()\n",
        "regressor4.add(LSTM(units=50, activation= \"tanh\", return_sequences= True, input_shape = (X_train.shape[1] , 1)))\n",
        "regressor4.add(LSTM(units=100, activation= \"tanh\")) \n",
        "regressor4.add(Dense(units = 25))\n",
        "regressor4.add(Dense(units = 1))\n",
        "\n",
        "\n",
        "regressor4.summary()"
      ],
      "metadata": {
        "colab": {
          "base_uri": "https://localhost:8080/"
        },
        "id": "st2UEphtOLtF",
        "outputId": "57a36c41-b774-4707-ed07-2ec1121b6535"
      },
      "execution_count": 19,
      "outputs": [
        {
          "output_type": "stream",
          "name": "stdout",
          "text": [
            "Model: \"sequential_5\"\n",
            "_________________________________________________________________\n",
            " Layer (type)                Output Shape              Param #   \n",
            "=================================================================\n",
            " lstm_8 (LSTM)               (None, 60, 50)            10400     \n",
            "                                                                 \n",
            " lstm_9 (LSTM)               (None, 100)               60400     \n",
            "                                                                 \n",
            " dense_10 (Dense)            (None, 25)                2525      \n",
            "                                                                 \n",
            " dense_11 (Dense)            (None, 1)                 26        \n",
            "                                                                 \n",
            "=================================================================\n",
            "Total params: 73,351\n",
            "Trainable params: 73,351\n",
            "Non-trainable params: 0\n",
            "_________________________________________________________________\n"
          ]
        }
      ]
    },
    {
      "cell_type": "code",
      "source": [
        "regressor.compile(optimizer= \"adam\", loss = \"mean_squared_error\") \n",
        "regressor2.compile(optimizer= \"adam\", loss = \"mean_squared_error\") "
      ],
      "metadata": {
        "id": "mPgW4Z7Phxef"
      },
      "execution_count": 20,
      "outputs": []
    },
    {
      "cell_type": "code",
      "source": [
        "print('شروع معماری اول LSTM')\n",
        "history = regressor.fit(X_train, Y_train, epochs=60, batch_size = 64)"
      ],
      "metadata": {
        "colab": {
          "base_uri": "https://localhost:8080/"
        },
        "id": "jE_DddwHhy8G",
        "outputId": "2f1ba3bc-34b0-4f1d-a271-4040c73af4d4"
      },
      "execution_count": 21,
      "outputs": [
        {
          "output_type": "stream",
          "name": "stdout",
          "text": [
            "شروع معماری اول LSTM\n",
            "Epoch 1/60\n",
            "43/43 [==============================] - 10s 19ms/step - loss: 0.0076\n",
            "Epoch 2/60\n",
            "43/43 [==============================] - 1s 14ms/step - loss: 5.6660e-04\n",
            "Epoch 3/60\n",
            "43/43 [==============================] - 1s 13ms/step - loss: 4.9419e-04\n",
            "Epoch 4/60\n",
            "43/43 [==============================] - 1s 13ms/step - loss: 4.5498e-04\n",
            "Epoch 5/60\n",
            "43/43 [==============================] - 0s 9ms/step - loss: 4.3381e-04\n",
            "Epoch 6/60\n",
            "43/43 [==============================] - 0s 8ms/step - loss: 4.1746e-04\n",
            "Epoch 7/60\n",
            "43/43 [==============================] - 0s 9ms/step - loss: 3.9678e-04\n",
            "Epoch 8/60\n",
            "43/43 [==============================] - 0s 9ms/step - loss: 3.7808e-04\n",
            "Epoch 9/60\n",
            "43/43 [==============================] - 0s 9ms/step - loss: 3.7058e-04\n",
            "Epoch 10/60\n",
            "43/43 [==============================] - 0s 9ms/step - loss: 3.3944e-04\n",
            "Epoch 11/60\n",
            "43/43 [==============================] - 0s 9ms/step - loss: 3.2589e-04\n",
            "Epoch 12/60\n",
            "43/43 [==============================] - 0s 9ms/step - loss: 3.2809e-04\n",
            "Epoch 13/60\n",
            "43/43 [==============================] - 0s 8ms/step - loss: 2.9584e-04\n",
            "Epoch 14/60\n",
            "43/43 [==============================] - 0s 9ms/step - loss: 2.8960e-04\n",
            "Epoch 15/60\n",
            "43/43 [==============================] - 0s 9ms/step - loss: 3.0693e-04\n",
            "Epoch 16/60\n",
            "43/43 [==============================] - 0s 8ms/step - loss: 2.7774e-04\n",
            "Epoch 17/60\n",
            "43/43 [==============================] - 0s 8ms/step - loss: 2.7149e-04\n",
            "Epoch 18/60\n",
            "43/43 [==============================] - 0s 9ms/step - loss: 2.7135e-04\n",
            "Epoch 19/60\n",
            "43/43 [==============================] - 0s 9ms/step - loss: 2.5507e-04\n",
            "Epoch 20/60\n",
            "43/43 [==============================] - 0s 9ms/step - loss: 2.5491e-04\n",
            "Epoch 21/60\n",
            "43/43 [==============================] - 0s 9ms/step - loss: 2.5694e-04\n",
            "Epoch 22/60\n",
            "43/43 [==============================] - 0s 9ms/step - loss: 2.6699e-04\n",
            "Epoch 23/60\n",
            "43/43 [==============================] - 0s 9ms/step - loss: 2.5857e-04\n",
            "Epoch 24/60\n",
            "43/43 [==============================] - 0s 9ms/step - loss: 2.2914e-04\n",
            "Epoch 25/60\n",
            "43/43 [==============================] - 0s 9ms/step - loss: 2.4080e-04\n",
            "Epoch 26/60\n",
            "43/43 [==============================] - 0s 9ms/step - loss: 2.2815e-04\n",
            "Epoch 27/60\n",
            "43/43 [==============================] - 0s 9ms/step - loss: 2.2399e-04\n",
            "Epoch 28/60\n",
            "43/43 [==============================] - 0s 9ms/step - loss: 2.2579e-04\n",
            "Epoch 29/60\n",
            "43/43 [==============================] - 0s 8ms/step - loss: 2.3633e-04\n",
            "Epoch 30/60\n",
            "43/43 [==============================] - 0s 9ms/step - loss: 1.9962e-04\n",
            "Epoch 31/60\n",
            "43/43 [==============================] - 0s 9ms/step - loss: 1.9818e-04\n",
            "Epoch 32/60\n",
            "43/43 [==============================] - 0s 9ms/step - loss: 2.0181e-04\n",
            "Epoch 33/60\n",
            "43/43 [==============================] - 0s 8ms/step - loss: 1.9693e-04\n",
            "Epoch 34/60\n",
            "43/43 [==============================] - 0s 9ms/step - loss: 1.8754e-04\n",
            "Epoch 35/60\n",
            "43/43 [==============================] - 0s 8ms/step - loss: 1.8191e-04\n",
            "Epoch 36/60\n",
            "43/43 [==============================] - 0s 9ms/step - loss: 1.8979e-04\n",
            "Epoch 37/60\n",
            "43/43 [==============================] - 0s 8ms/step - loss: 1.8751e-04\n",
            "Epoch 38/60\n",
            "43/43 [==============================] - 0s 8ms/step - loss: 1.8151e-04\n",
            "Epoch 39/60\n",
            "43/43 [==============================] - 0s 9ms/step - loss: 1.7278e-04\n",
            "Epoch 40/60\n",
            "43/43 [==============================] - 0s 9ms/step - loss: 1.7418e-04\n",
            "Epoch 41/60\n",
            "43/43 [==============================] - 0s 9ms/step - loss: 1.8191e-04\n",
            "Epoch 42/60\n",
            "43/43 [==============================] - 0s 9ms/step - loss: 1.8537e-04\n",
            "Epoch 43/60\n",
            "43/43 [==============================] - 0s 9ms/step - loss: 1.6268e-04\n",
            "Epoch 44/60\n",
            "43/43 [==============================] - 0s 8ms/step - loss: 1.5560e-04\n",
            "Epoch 45/60\n",
            "43/43 [==============================] - 0s 9ms/step - loss: 1.6034e-04\n",
            "Epoch 46/60\n",
            "43/43 [==============================] - 0s 8ms/step - loss: 1.6722e-04\n",
            "Epoch 47/60\n",
            "43/43 [==============================] - 0s 9ms/step - loss: 1.4770e-04\n",
            "Epoch 48/60\n",
            "43/43 [==============================] - 0s 9ms/step - loss: 1.5990e-04\n",
            "Epoch 49/60\n",
            "43/43 [==============================] - 0s 8ms/step - loss: 1.4037e-04\n",
            "Epoch 50/60\n",
            "43/43 [==============================] - 0s 9ms/step - loss: 1.7192e-04\n",
            "Epoch 51/60\n",
            "43/43 [==============================] - 0s 8ms/step - loss: 1.6189e-04\n",
            "Epoch 52/60\n",
            "43/43 [==============================] - 0s 8ms/step - loss: 1.4443e-04\n",
            "Epoch 53/60\n",
            "43/43 [==============================] - 0s 9ms/step - loss: 1.4408e-04\n",
            "Epoch 54/60\n",
            "43/43 [==============================] - 0s 8ms/step - loss: 1.3582e-04\n",
            "Epoch 55/60\n",
            "43/43 [==============================] - 0s 8ms/step - loss: 1.3239e-04\n",
            "Epoch 56/60\n",
            "43/43 [==============================] - 0s 9ms/step - loss: 1.4846e-04\n",
            "Epoch 57/60\n",
            "43/43 [==============================] - 0s 8ms/step - loss: 1.3723e-04\n",
            "Epoch 58/60\n",
            "43/43 [==============================] - 0s 9ms/step - loss: 1.2943e-04\n",
            "Epoch 59/60\n",
            "43/43 [==============================] - 0s 9ms/step - loss: 1.2754e-04\n",
            "Epoch 60/60\n",
            "43/43 [==============================] - 0s 8ms/step - loss: 1.2405e-04\n"
          ]
        }
      ]
    },
    {
      "cell_type": "code",
      "source": [
        "print('شروع معماری دوم LSTM')\n",
        "history2 = regressor2.fit(X_train, Y_train, epochs=60, batch_size = 64)"
      ],
      "metadata": {
        "colab": {
          "base_uri": "https://localhost:8080/"
        },
        "id": "JGmuBQY6hz43",
        "outputId": "9fe5f046-ac4e-498f-f59f-e63064f47d89"
      },
      "execution_count": 22,
      "outputs": [
        {
          "output_type": "stream",
          "name": "stdout",
          "text": [
            "شروع معماری دوم LSTM\n",
            "Epoch 1/60\n",
            "43/43 [==============================] - 2s 5ms/step - loss: 0.0195\n",
            "Epoch 2/60\n",
            "43/43 [==============================] - 0s 5ms/step - loss: 6.5345e-04\n",
            "Epoch 3/60\n",
            "43/43 [==============================] - 0s 6ms/step - loss: 3.0012e-04\n",
            "Epoch 4/60\n",
            "43/43 [==============================] - 0s 5ms/step - loss: 2.8972e-04\n",
            "Epoch 5/60\n",
            "43/43 [==============================] - 0s 5ms/step - loss: 2.8605e-04\n",
            "Epoch 6/60\n",
            "43/43 [==============================] - 0s 6ms/step - loss: 2.7628e-04\n",
            "Epoch 7/60\n",
            "43/43 [==============================] - 0s 6ms/step - loss: 2.6983e-04\n",
            "Epoch 8/60\n",
            "43/43 [==============================] - 0s 5ms/step - loss: 2.6477e-04\n",
            "Epoch 9/60\n",
            "43/43 [==============================] - 0s 6ms/step - loss: 2.6562e-04\n",
            "Epoch 10/60\n",
            "43/43 [==============================] - 0s 6ms/step - loss: 2.4871e-04\n",
            "Epoch 11/60\n",
            "43/43 [==============================] - 0s 6ms/step - loss: 2.3951e-04\n",
            "Epoch 12/60\n",
            "43/43 [==============================] - 0s 6ms/step - loss: 2.3875e-04\n",
            "Epoch 13/60\n",
            "43/43 [==============================] - 0s 6ms/step - loss: 2.2757e-04\n",
            "Epoch 14/60\n",
            "43/43 [==============================] - 0s 5ms/step - loss: 2.2493e-04\n",
            "Epoch 15/60\n",
            "43/43 [==============================] - 0s 6ms/step - loss: 2.1672e-04\n",
            "Epoch 16/60\n",
            "43/43 [==============================] - 0s 6ms/step - loss: 2.1082e-04\n",
            "Epoch 17/60\n",
            "43/43 [==============================] - 0s 5ms/step - loss: 2.0460e-04\n",
            "Epoch 18/60\n",
            "43/43 [==============================] - 0s 5ms/step - loss: 2.0282e-04\n",
            "Epoch 19/60\n",
            "43/43 [==============================] - 0s 5ms/step - loss: 1.9871e-04\n",
            "Epoch 20/60\n",
            "43/43 [==============================] - 0s 6ms/step - loss: 1.9272e-04\n",
            "Epoch 21/60\n",
            "43/43 [==============================] - 0s 5ms/step - loss: 1.9295e-04\n",
            "Epoch 22/60\n",
            "43/43 [==============================] - 0s 6ms/step - loss: 1.9060e-04\n",
            "Epoch 23/60\n",
            "43/43 [==============================] - 0s 6ms/step - loss: 1.8303e-04\n",
            "Epoch 24/60\n",
            "43/43 [==============================] - 0s 6ms/step - loss: 1.7722e-04\n",
            "Epoch 25/60\n",
            "43/43 [==============================] - 0s 6ms/step - loss: 1.7623e-04\n",
            "Epoch 26/60\n",
            "43/43 [==============================] - 0s 6ms/step - loss: 1.7824e-04\n",
            "Epoch 27/60\n",
            "43/43 [==============================] - 0s 6ms/step - loss: 1.7064e-04\n",
            "Epoch 28/60\n",
            "43/43 [==============================] - 0s 6ms/step - loss: 1.7021e-04\n",
            "Epoch 29/60\n",
            "43/43 [==============================] - 0s 6ms/step - loss: 1.6292e-04\n",
            "Epoch 30/60\n",
            "43/43 [==============================] - 0s 6ms/step - loss: 1.6759e-04\n",
            "Epoch 31/60\n",
            "43/43 [==============================] - 0s 6ms/step - loss: 1.6329e-04\n",
            "Epoch 32/60\n",
            "43/43 [==============================] - 0s 6ms/step - loss: 1.5408e-04\n",
            "Epoch 33/60\n",
            "43/43 [==============================] - 0s 5ms/step - loss: 1.5028e-04\n",
            "Epoch 34/60\n",
            "43/43 [==============================] - 0s 5ms/step - loss: 1.5329e-04\n",
            "Epoch 35/60\n",
            "43/43 [==============================] - 0s 6ms/step - loss: 1.5234e-04\n",
            "Epoch 36/60\n",
            "43/43 [==============================] - 0s 6ms/step - loss: 1.4511e-04\n",
            "Epoch 37/60\n",
            "43/43 [==============================] - 0s 6ms/step - loss: 1.4537e-04\n",
            "Epoch 38/60\n",
            "43/43 [==============================] - 0s 6ms/step - loss: 1.4164e-04\n",
            "Epoch 39/60\n",
            "43/43 [==============================] - 0s 6ms/step - loss: 1.4446e-04\n",
            "Epoch 40/60\n",
            "43/43 [==============================] - 0s 6ms/step - loss: 1.3831e-04\n",
            "Epoch 41/60\n",
            "43/43 [==============================] - 0s 6ms/step - loss: 1.3456e-04\n",
            "Epoch 42/60\n",
            "43/43 [==============================] - 0s 6ms/step - loss: 1.3429e-04\n",
            "Epoch 43/60\n",
            "43/43 [==============================] - 0s 6ms/step - loss: 1.3530e-04\n",
            "Epoch 44/60\n",
            "43/43 [==============================] - 0s 6ms/step - loss: 1.3468e-04\n",
            "Epoch 45/60\n",
            "43/43 [==============================] - 0s 6ms/step - loss: 1.3349e-04\n",
            "Epoch 46/60\n",
            "43/43 [==============================] - 0s 5ms/step - loss: 1.2735e-04\n",
            "Epoch 47/60\n",
            "43/43 [==============================] - 0s 6ms/step - loss: 1.2659e-04\n",
            "Epoch 48/60\n",
            "43/43 [==============================] - 0s 6ms/step - loss: 1.2390e-04\n",
            "Epoch 49/60\n",
            "43/43 [==============================] - 0s 5ms/step - loss: 1.2401e-04\n",
            "Epoch 50/60\n",
            "43/43 [==============================] - 0s 6ms/step - loss: 1.2443e-04\n",
            "Epoch 51/60\n",
            "43/43 [==============================] - 0s 5ms/step - loss: 1.2165e-04\n",
            "Epoch 52/60\n",
            "43/43 [==============================] - 0s 6ms/step - loss: 1.2206e-04\n",
            "Epoch 53/60\n",
            "43/43 [==============================] - 0s 6ms/step - loss: 1.2975e-04\n",
            "Epoch 54/60\n",
            "43/43 [==============================] - 0s 6ms/step - loss: 1.1396e-04\n",
            "Epoch 55/60\n",
            "43/43 [==============================] - 0s 6ms/step - loss: 1.1599e-04\n",
            "Epoch 56/60\n",
            "43/43 [==============================] - 0s 6ms/step - loss: 1.1611e-04\n",
            "Epoch 57/60\n",
            "43/43 [==============================] - 0s 6ms/step - loss: 1.1517e-04\n",
            "Epoch 58/60\n",
            "43/43 [==============================] - 0s 6ms/step - loss: 1.1267e-04\n",
            "Epoch 59/60\n",
            "43/43 [==============================] - 0s 6ms/step - loss: 1.1244e-04\n",
            "Epoch 60/60\n",
            "43/43 [==============================] - 0s 6ms/step - loss: 1.1953e-04\n"
          ]
        }
      ]
    },
    {
      "cell_type": "code",
      "source": [
        "regressor3.compile(optimizer= \"adam\", loss = \"mean_squared_error\") \n",
        "history3 = regressor3.fit(X_train, Y_train, epochs=60, batch_size = 64)"
      ],
      "metadata": {
        "colab": {
          "base_uri": "https://localhost:8080/"
        },
        "id": "gYLHv7hrm88t",
        "outputId": "3b0feb9c-7ff5-4e1e-c4b7-8d9361564748"
      },
      "execution_count": 23,
      "outputs": [
        {
          "output_type": "stream",
          "name": "stdout",
          "text": [
            "Epoch 1/60\n",
            "43/43 [==============================] - 2s 6ms/step - loss: 0.0281\n",
            "Epoch 2/60\n",
            "43/43 [==============================] - 0s 6ms/step - loss: 0.0023\n",
            "Epoch 3/60\n",
            "43/43 [==============================] - 0s 6ms/step - loss: 4.9661e-04\n",
            "Epoch 4/60\n",
            "43/43 [==============================] - 0s 6ms/step - loss: 4.6595e-04\n",
            "Epoch 5/60\n",
            "43/43 [==============================] - 0s 6ms/step - loss: 4.4013e-04\n",
            "Epoch 6/60\n",
            "43/43 [==============================] - 0s 6ms/step - loss: 4.3201e-04\n",
            "Epoch 7/60\n",
            "43/43 [==============================] - 0s 5ms/step - loss: 4.0602e-04\n",
            "Epoch 8/60\n",
            "43/43 [==============================] - 0s 6ms/step - loss: 3.8603e-04\n",
            "Epoch 9/60\n",
            "43/43 [==============================] - 0s 5ms/step - loss: 3.7497e-04\n",
            "Epoch 10/60\n",
            "43/43 [==============================] - 0s 6ms/step - loss: 3.6218e-04\n",
            "Epoch 11/60\n",
            "43/43 [==============================] - 0s 5ms/step - loss: 3.4621e-04\n",
            "Epoch 12/60\n",
            "43/43 [==============================] - 0s 5ms/step - loss: 3.3785e-04\n",
            "Epoch 13/60\n",
            "43/43 [==============================] - 0s 6ms/step - loss: 3.2008e-04\n",
            "Epoch 14/60\n",
            "43/43 [==============================] - 0s 5ms/step - loss: 3.0808e-04\n",
            "Epoch 15/60\n",
            "43/43 [==============================] - 0s 6ms/step - loss: 2.9934e-04\n",
            "Epoch 16/60\n",
            "43/43 [==============================] - 0s 5ms/step - loss: 2.9351e-04\n",
            "Epoch 17/60\n",
            "43/43 [==============================] - 0s 6ms/step - loss: 2.8674e-04\n",
            "Epoch 18/60\n",
            "43/43 [==============================] - 0s 5ms/step - loss: 2.6927e-04\n",
            "Epoch 19/60\n",
            "43/43 [==============================] - 0s 6ms/step - loss: 2.6695e-04\n",
            "Epoch 20/60\n",
            "43/43 [==============================] - 0s 5ms/step - loss: 2.5455e-04\n",
            "Epoch 21/60\n",
            "43/43 [==============================] - 0s 5ms/step - loss: 2.4687e-04\n",
            "Epoch 22/60\n",
            "43/43 [==============================] - 0s 6ms/step - loss: 2.3424e-04\n",
            "Epoch 23/60\n",
            "43/43 [==============================] - 0s 6ms/step - loss: 2.3109e-04\n",
            "Epoch 24/60\n",
            "43/43 [==============================] - 0s 6ms/step - loss: 2.2390e-04\n",
            "Epoch 25/60\n",
            "43/43 [==============================] - 0s 5ms/step - loss: 2.1992e-04\n",
            "Epoch 26/60\n",
            "43/43 [==============================] - 0s 6ms/step - loss: 2.1615e-04\n",
            "Epoch 27/60\n",
            "43/43 [==============================] - 0s 8ms/step - loss: 2.1928e-04\n",
            "Epoch 28/60\n",
            "43/43 [==============================] - 0s 8ms/step - loss: 2.1028e-04\n",
            "Epoch 29/60\n",
            "43/43 [==============================] - 0s 8ms/step - loss: 2.1157e-04\n",
            "Epoch 30/60\n",
            "43/43 [==============================] - 0s 8ms/step - loss: 2.0661e-04\n",
            "Epoch 31/60\n",
            "43/43 [==============================] - 0s 8ms/step - loss: 1.9985e-04\n",
            "Epoch 32/60\n",
            "43/43 [==============================] - 0s 7ms/step - loss: 2.0423e-04\n",
            "Epoch 33/60\n",
            "43/43 [==============================] - 0s 8ms/step - loss: 1.9181e-04\n",
            "Epoch 34/60\n",
            "43/43 [==============================] - 0s 8ms/step - loss: 1.9316e-04\n",
            "Epoch 35/60\n",
            "43/43 [==============================] - 0s 8ms/step - loss: 1.8959e-04\n",
            "Epoch 36/60\n",
            "43/43 [==============================] - 0s 8ms/step - loss: 1.8737e-04\n",
            "Epoch 37/60\n",
            "43/43 [==============================] - 0s 8ms/step - loss: 1.8268e-04\n",
            "Epoch 38/60\n",
            "43/43 [==============================] - 0s 7ms/step - loss: 1.8225e-04\n",
            "Epoch 39/60\n",
            "43/43 [==============================] - 0s 6ms/step - loss: 1.8365e-04\n",
            "Epoch 40/60\n",
            "43/43 [==============================] - 0s 5ms/step - loss: 1.7452e-04\n",
            "Epoch 41/60\n",
            "43/43 [==============================] - 0s 5ms/step - loss: 1.7317e-04\n",
            "Epoch 42/60\n",
            "43/43 [==============================] - 0s 5ms/step - loss: 1.7681e-04\n",
            "Epoch 43/60\n",
            "43/43 [==============================] - 0s 6ms/step - loss: 1.7633e-04\n",
            "Epoch 44/60\n",
            "43/43 [==============================] - 0s 6ms/step - loss: 1.6770e-04\n",
            "Epoch 45/60\n",
            "43/43 [==============================] - 0s 6ms/step - loss: 1.7207e-04\n",
            "Epoch 46/60\n",
            "43/43 [==============================] - 0s 6ms/step - loss: 1.8839e-04\n",
            "Epoch 47/60\n",
            "43/43 [==============================] - 0s 5ms/step - loss: 1.6640e-04\n",
            "Epoch 48/60\n",
            "43/43 [==============================] - 0s 6ms/step - loss: 1.6384e-04\n",
            "Epoch 49/60\n",
            "43/43 [==============================] - 0s 6ms/step - loss: 1.6108e-04\n",
            "Epoch 50/60\n",
            "43/43 [==============================] - 0s 6ms/step - loss: 1.6198e-04\n",
            "Epoch 51/60\n",
            "43/43 [==============================] - 0s 6ms/step - loss: 1.5774e-04\n",
            "Epoch 52/60\n",
            "43/43 [==============================] - 0s 6ms/step - loss: 1.6187e-04\n",
            "Epoch 53/60\n",
            "43/43 [==============================] - 0s 6ms/step - loss: 1.5588e-04\n",
            "Epoch 54/60\n",
            "43/43 [==============================] - 0s 6ms/step - loss: 1.5455e-04\n",
            "Epoch 55/60\n",
            "43/43 [==============================] - 0s 5ms/step - loss: 1.5231e-04\n",
            "Epoch 56/60\n",
            "43/43 [==============================] - 0s 6ms/step - loss: 1.4810e-04\n",
            "Epoch 57/60\n",
            "43/43 [==============================] - 0s 5ms/step - loss: 1.4919e-04\n",
            "Epoch 58/60\n",
            "43/43 [==============================] - 0s 6ms/step - loss: 1.4591e-04\n",
            "Epoch 59/60\n",
            "43/43 [==============================] - 0s 5ms/step - loss: 1.4501e-04\n",
            "Epoch 60/60\n",
            "43/43 [==============================] - 0s 6ms/step - loss: 1.4243e-04\n"
          ]
        }
      ]
    },
    {
      "cell_type": "code",
      "source": [
        "\n",
        "regressor4.compile(optimizer= \"adam\", loss = \"mean_squared_error\") \n",
        "history4 = regressor4.fit(X_train, Y_train, epochs=60, batch_size = 128)"
      ],
      "metadata": {
        "colab": {
          "base_uri": "https://localhost:8080/"
        },
        "id": "bP1I4b22osL4",
        "outputId": "854ee8dc-0eef-4509-9dba-1c08c0979ad3"
      },
      "execution_count": 24,
      "outputs": [
        {
          "output_type": "stream",
          "name": "stdout",
          "text": [
            "Epoch 1/60\n",
            "22/22 [==============================] - 3s 14ms/step - loss: 0.0152\n",
            "Epoch 2/60\n",
            "22/22 [==============================] - 0s 11ms/step - loss: 0.0015\n",
            "Epoch 3/60\n",
            "22/22 [==============================] - 0s 11ms/step - loss: 4.7009e-04\n",
            "Epoch 4/60\n",
            "22/22 [==============================] - 0s 10ms/step - loss: 4.2290e-04\n",
            "Epoch 5/60\n",
            "22/22 [==============================] - 0s 11ms/step - loss: 3.9403e-04\n",
            "Epoch 6/60\n",
            "22/22 [==============================] - 0s 10ms/step - loss: 3.8536e-04\n",
            "Epoch 7/60\n",
            "22/22 [==============================] - 0s 11ms/step - loss: 3.7917e-04\n",
            "Epoch 8/60\n",
            "22/22 [==============================] - 0s 10ms/step - loss: 3.7204e-04\n",
            "Epoch 9/60\n",
            "22/22 [==============================] - 0s 10ms/step - loss: 3.5701e-04\n",
            "Epoch 10/60\n",
            "22/22 [==============================] - 0s 10ms/step - loss: 3.4672e-04\n",
            "Epoch 11/60\n",
            "22/22 [==============================] - 0s 10ms/step - loss: 3.4460e-04\n",
            "Epoch 12/60\n",
            "22/22 [==============================] - 0s 10ms/step - loss: 3.4977e-04\n",
            "Epoch 13/60\n",
            "22/22 [==============================] - 0s 10ms/step - loss: 3.3232e-04\n",
            "Epoch 14/60\n",
            "22/22 [==============================] - 0s 11ms/step - loss: 3.2265e-04\n",
            "Epoch 15/60\n",
            "22/22 [==============================] - 0s 11ms/step - loss: 3.1771e-04\n",
            "Epoch 16/60\n",
            "22/22 [==============================] - 0s 10ms/step - loss: 3.0348e-04\n",
            "Epoch 17/60\n",
            "22/22 [==============================] - 0s 10ms/step - loss: 3.0112e-04\n",
            "Epoch 18/60\n",
            "22/22 [==============================] - 0s 11ms/step - loss: 2.9316e-04\n",
            "Epoch 19/60\n",
            "22/22 [==============================] - 0s 11ms/step - loss: 2.8916e-04\n",
            "Epoch 20/60\n",
            "22/22 [==============================] - 0s 10ms/step - loss: 2.9880e-04\n",
            "Epoch 21/60\n",
            "22/22 [==============================] - 0s 10ms/step - loss: 2.8040e-04\n",
            "Epoch 22/60\n",
            "22/22 [==============================] - 0s 11ms/step - loss: 2.7999e-04\n",
            "Epoch 23/60\n",
            "22/22 [==============================] - 0s 11ms/step - loss: 2.7575e-04\n",
            "Epoch 24/60\n",
            "22/22 [==============================] - 0s 10ms/step - loss: 2.7246e-04\n",
            "Epoch 25/60\n",
            "22/22 [==============================] - 0s 10ms/step - loss: 2.7639e-04\n",
            "Epoch 26/60\n",
            "22/22 [==============================] - 0s 10ms/step - loss: 2.7978e-04\n",
            "Epoch 27/60\n",
            "22/22 [==============================] - 0s 11ms/step - loss: 2.5692e-04\n",
            "Epoch 28/60\n",
            "22/22 [==============================] - 0s 15ms/step - loss: 2.6166e-04\n",
            "Epoch 29/60\n",
            "22/22 [==============================] - 0s 20ms/step - loss: 2.5959e-04\n",
            "Epoch 30/60\n",
            "22/22 [==============================] - 0s 12ms/step - loss: 2.5509e-04\n",
            "Epoch 31/60\n",
            "22/22 [==============================] - 0s 10ms/step - loss: 2.8291e-04\n",
            "Epoch 32/60\n",
            "22/22 [==============================] - 0s 22ms/step - loss: 2.4208e-04\n",
            "Epoch 33/60\n",
            "22/22 [==============================] - 0s 16ms/step - loss: 2.7783e-04\n",
            "Epoch 34/60\n",
            "22/22 [==============================] - 0s 11ms/step - loss: 2.4642e-04\n",
            "Epoch 35/60\n",
            "22/22 [==============================] - 0s 16ms/step - loss: 2.3763e-04\n",
            "Epoch 36/60\n",
            "22/22 [==============================] - 1s 24ms/step - loss: 2.6246e-04\n",
            "Epoch 37/60\n",
            "22/22 [==============================] - 0s 10ms/step - loss: 2.4520e-04\n",
            "Epoch 38/60\n",
            "22/22 [==============================] - 0s 10ms/step - loss: 2.2512e-04\n",
            "Epoch 39/60\n",
            "22/22 [==============================] - 0s 11ms/step - loss: 2.5703e-04\n",
            "Epoch 40/60\n",
            "22/22 [==============================] - 0s 11ms/step - loss: 2.5770e-04\n",
            "Epoch 41/60\n",
            "22/22 [==============================] - 0s 10ms/step - loss: 2.2194e-04\n",
            "Epoch 42/60\n",
            "22/22 [==============================] - 0s 11ms/step - loss: 2.2883e-04\n",
            "Epoch 43/60\n",
            "22/22 [==============================] - 0s 10ms/step - loss: 2.0524e-04\n",
            "Epoch 44/60\n",
            "22/22 [==============================] - 0s 11ms/step - loss: 2.0814e-04\n",
            "Epoch 45/60\n",
            "22/22 [==============================] - 0s 10ms/step - loss: 2.0265e-04\n",
            "Epoch 46/60\n",
            "22/22 [==============================] - 0s 10ms/step - loss: 2.1183e-04\n",
            "Epoch 47/60\n",
            "22/22 [==============================] - 0s 10ms/step - loss: 2.0696e-04\n",
            "Epoch 48/60\n",
            "22/22 [==============================] - 0s 11ms/step - loss: 2.0111e-04\n",
            "Epoch 49/60\n",
            "22/22 [==============================] - 0s 10ms/step - loss: 2.1808e-04\n",
            "Epoch 50/60\n",
            "22/22 [==============================] - 0s 11ms/step - loss: 1.9194e-04\n",
            "Epoch 51/60\n",
            "22/22 [==============================] - 0s 11ms/step - loss: 1.8999e-04\n",
            "Epoch 52/60\n",
            "22/22 [==============================] - 0s 11ms/step - loss: 1.8456e-04\n",
            "Epoch 53/60\n",
            "22/22 [==============================] - 0s 11ms/step - loss: 1.9442e-04\n",
            "Epoch 54/60\n",
            "22/22 [==============================] - 0s 11ms/step - loss: 1.7793e-04\n",
            "Epoch 55/60\n",
            "22/22 [==============================] - 0s 10ms/step - loss: 1.7403e-04\n",
            "Epoch 56/60\n",
            "22/22 [==============================] - 0s 11ms/step - loss: 1.7401e-04\n",
            "Epoch 57/60\n",
            "22/22 [==============================] - 0s 11ms/step - loss: 1.7773e-04\n",
            "Epoch 58/60\n",
            "22/22 [==============================] - 0s 10ms/step - loss: 1.9861e-04\n",
            "Epoch 59/60\n",
            "22/22 [==============================] - 0s 11ms/step - loss: 2.0709e-04\n",
            "Epoch 60/60\n",
            "22/22 [==============================] - 0s 10ms/step - loss: 1.6393e-04\n"
          ]
        }
      ]
    },
    {
      "cell_type": "code",
      "source": [
        "regressor5.compile(optimizer= \"adam\", loss = \"mean_squared_error\") \n",
        "history5=regressor5.fit(X_train, Y_train, epochs=60, batch_size = 16)"
      ],
      "metadata": {
        "colab": {
          "base_uri": "https://localhost:8080/"
        },
        "id": "8TuobsrhL8is",
        "outputId": "24ff1167-23b0-4b60-9d39-0ed7918027b1"
      },
      "execution_count": 75,
      "outputs": [
        {
          "output_type": "stream",
          "name": "stdout",
          "text": [
            "Epoch 1/60\n",
            "170/170 [==============================] - 5s 9ms/step - loss: 1.0690e-04\n",
            "Epoch 2/60\n",
            "170/170 [==============================] - 1s 9ms/step - loss: 1.0340e-04\n",
            "Epoch 3/60\n",
            "170/170 [==============================] - 1s 9ms/step - loss: 1.0388e-04\n",
            "Epoch 4/60\n",
            "170/170 [==============================] - 1s 9ms/step - loss: 9.2676e-05\n",
            "Epoch 5/60\n",
            "170/170 [==============================] - 2s 9ms/step - loss: 9.3761e-05\n",
            "Epoch 6/60\n",
            "170/170 [==============================] - 1s 9ms/step - loss: 9.5173e-05\n",
            "Epoch 7/60\n",
            "170/170 [==============================] - 1s 9ms/step - loss: 1.0297e-04\n",
            "Epoch 8/60\n",
            "170/170 [==============================] - 2s 9ms/step - loss: 1.0987e-04\n",
            "Epoch 9/60\n",
            "170/170 [==============================] - 1s 9ms/step - loss: 9.7356e-05\n",
            "Epoch 10/60\n",
            "170/170 [==============================] - 1s 9ms/step - loss: 9.2873e-05\n",
            "Epoch 11/60\n",
            "170/170 [==============================] - 1s 9ms/step - loss: 9.6604e-05\n",
            "Epoch 12/60\n",
            "170/170 [==============================] - 1s 9ms/step - loss: 9.6056e-05\n",
            "Epoch 13/60\n",
            "170/170 [==============================] - 1s 8ms/step - loss: 9.7234e-05\n",
            "Epoch 14/60\n",
            "170/170 [==============================] - 1s 9ms/step - loss: 9.6115e-05\n",
            "Epoch 15/60\n",
            "170/170 [==============================] - 1s 9ms/step - loss: 9.2385e-05\n",
            "Epoch 16/60\n",
            "170/170 [==============================] - 1s 8ms/step - loss: 9.4029e-05\n",
            "Epoch 17/60\n",
            "170/170 [==============================] - 1s 8ms/step - loss: 9.8225e-05\n",
            "Epoch 18/60\n",
            "170/170 [==============================] - 1s 9ms/step - loss: 9.1797e-05\n",
            "Epoch 19/60\n",
            "170/170 [==============================] - 2s 9ms/step - loss: 1.0042e-04\n",
            "Epoch 20/60\n",
            "170/170 [==============================] - 1s 9ms/step - loss: 9.6424e-05\n",
            "Epoch 21/60\n",
            "170/170 [==============================] - 1s 9ms/step - loss: 9.7075e-05\n",
            "Epoch 22/60\n",
            "170/170 [==============================] - 1s 9ms/step - loss: 1.0061e-04\n",
            "Epoch 23/60\n",
            "170/170 [==============================] - 1s 8ms/step - loss: 9.5703e-05\n",
            "Epoch 24/60\n",
            "170/170 [==============================] - 1s 9ms/step - loss: 9.8181e-05\n",
            "Epoch 25/60\n",
            "170/170 [==============================] - 1s 9ms/step - loss: 9.6057e-05\n",
            "Epoch 26/60\n",
            "170/170 [==============================] - 1s 8ms/step - loss: 9.5126e-05\n",
            "Epoch 27/60\n",
            "170/170 [==============================] - 2s 9ms/step - loss: 9.8953e-05\n",
            "Epoch 28/60\n",
            "170/170 [==============================] - 1s 9ms/step - loss: 1.0096e-04\n",
            "Epoch 29/60\n",
            "170/170 [==============================] - 1s 9ms/step - loss: 9.9781e-05\n",
            "Epoch 30/60\n",
            "170/170 [==============================] - 1s 9ms/step - loss: 9.2015e-05\n",
            "Epoch 31/60\n",
            "170/170 [==============================] - 1s 9ms/step - loss: 9.7290e-05\n",
            "Epoch 32/60\n",
            "170/170 [==============================] - 1s 8ms/step - loss: 9.1416e-05\n",
            "Epoch 33/60\n",
            "170/170 [==============================] - 1s 8ms/step - loss: 1.0140e-04\n",
            "Epoch 34/60\n",
            "170/170 [==============================] - 1s 9ms/step - loss: 9.5304e-05\n",
            "Epoch 35/60\n",
            "170/170 [==============================] - 1s 9ms/step - loss: 9.3766e-05\n",
            "Epoch 36/60\n",
            "170/170 [==============================] - 2s 9ms/step - loss: 9.6516e-05\n",
            "Epoch 37/60\n",
            "170/170 [==============================] - 1s 9ms/step - loss: 9.4492e-05\n",
            "Epoch 38/60\n",
            "170/170 [==============================] - 1s 9ms/step - loss: 9.0599e-05\n",
            "Epoch 39/60\n",
            "170/170 [==============================] - 1s 8ms/step - loss: 9.9469e-05\n",
            "Epoch 40/60\n",
            "170/170 [==============================] - 2s 9ms/step - loss: 9.7151e-05\n",
            "Epoch 41/60\n",
            "170/170 [==============================] - 1s 8ms/step - loss: 9.5397e-05\n",
            "Epoch 42/60\n",
            "170/170 [==============================] - 1s 9ms/step - loss: 1.0121e-04\n",
            "Epoch 43/60\n",
            "170/170 [==============================] - 1s 8ms/step - loss: 9.5153e-05\n",
            "Epoch 44/60\n",
            "170/170 [==============================] - 1s 8ms/step - loss: 9.1717e-05\n",
            "Epoch 45/60\n",
            "170/170 [==============================] - 1s 8ms/step - loss: 9.4886e-05\n",
            "Epoch 46/60\n",
            "170/170 [==============================] - 1s 9ms/step - loss: 9.6067e-05\n",
            "Epoch 47/60\n",
            "170/170 [==============================] - 1s 9ms/step - loss: 9.7397e-05\n",
            "Epoch 48/60\n",
            "170/170 [==============================] - 1s 8ms/step - loss: 9.0508e-05\n",
            "Epoch 49/60\n",
            "170/170 [==============================] - 1s 9ms/step - loss: 9.3875e-05\n",
            "Epoch 50/60\n",
            "170/170 [==============================] - 1s 8ms/step - loss: 9.3424e-05\n",
            "Epoch 51/60\n",
            "170/170 [==============================] - 1s 8ms/step - loss: 9.7558e-05\n",
            "Epoch 52/60\n",
            "170/170 [==============================] - 1s 9ms/step - loss: 9.2152e-05\n",
            "Epoch 53/60\n",
            "170/170 [==============================] - 1s 9ms/step - loss: 1.0539e-04\n",
            "Epoch 54/60\n",
            "170/170 [==============================] - 1s 9ms/step - loss: 9.5609e-05\n",
            "Epoch 55/60\n",
            "170/170 [==============================] - 1s 8ms/step - loss: 9.9516e-05\n",
            "Epoch 56/60\n",
            "170/170 [==============================] - 1s 8ms/step - loss: 9.4332e-05\n",
            "Epoch 57/60\n",
            "170/170 [==============================] - 2s 9ms/step - loss: 1.0105e-04\n",
            "Epoch 58/60\n",
            "170/170 [==============================] - 2s 12ms/step - loss: 9.2994e-05\n",
            "Epoch 59/60\n",
            "170/170 [==============================] - 2s 12ms/step - loss: 9.4512e-05\n",
            "Epoch 60/60\n",
            "170/170 [==============================] - 2s 9ms/step - loss: 9.4256e-05\n"
          ]
        }
      ]
    },
    {
      "cell_type": "code",
      "source": [
        "regressor6.compile(optimizer= \"adam\", loss = \"mean_squared_error\") \n",
        "history6 = regressor6.fit(X_train, Y_train, epochs=60, batch_size = 64)"
      ],
      "metadata": {
        "colab": {
          "base_uri": "https://localhost:8080/"
        },
        "id": "NIDnOwSJMQU-",
        "outputId": "6cc24c65-86e1-4c0d-c680-6bb8f5e6987c"
      },
      "execution_count": 26,
      "outputs": [
        {
          "output_type": "stream",
          "name": "stdout",
          "text": [
            "Epoch 1/60\n",
            "43/43 [==============================] - 3s 10ms/step - loss: 0.0088\n",
            "Epoch 2/60\n",
            "43/43 [==============================] - 0s 8ms/step - loss: 4.4756e-04\n",
            "Epoch 3/60\n",
            "43/43 [==============================] - 0s 9ms/step - loss: 3.9917e-04\n",
            "Epoch 4/60\n",
            "43/43 [==============================] - 0s 9ms/step - loss: 3.8130e-04\n",
            "Epoch 5/60\n",
            "43/43 [==============================] - 0s 9ms/step - loss: 3.6604e-04\n",
            "Epoch 6/60\n",
            "43/43 [==============================] - 0s 9ms/step - loss: 3.5026e-04\n",
            "Epoch 7/60\n",
            "43/43 [==============================] - 0s 8ms/step - loss: 3.5817e-04\n",
            "Epoch 8/60\n",
            "43/43 [==============================] - 0s 9ms/step - loss: 3.2082e-04\n",
            "Epoch 9/60\n",
            "43/43 [==============================] - 0s 9ms/step - loss: 3.1187e-04\n",
            "Epoch 10/60\n",
            "43/43 [==============================] - 0s 8ms/step - loss: 3.1001e-04\n",
            "Epoch 11/60\n",
            "43/43 [==============================] - 0s 8ms/step - loss: 2.9914e-04\n",
            "Epoch 12/60\n",
            "43/43 [==============================] - 0s 8ms/step - loss: 2.8777e-04\n",
            "Epoch 13/60\n",
            "43/43 [==============================] - 0s 9ms/step - loss: 2.9307e-04\n",
            "Epoch 14/60\n",
            "43/43 [==============================] - 0s 8ms/step - loss: 2.8308e-04\n",
            "Epoch 15/60\n",
            "43/43 [==============================] - 0s 9ms/step - loss: 2.7112e-04\n",
            "Epoch 16/60\n",
            "43/43 [==============================] - 0s 9ms/step - loss: 2.6216e-04\n",
            "Epoch 17/60\n",
            "43/43 [==============================] - 0s 9ms/step - loss: 2.7660e-04\n",
            "Epoch 18/60\n",
            "43/43 [==============================] - 0s 9ms/step - loss: 2.4646e-04\n",
            "Epoch 19/60\n",
            "43/43 [==============================] - 0s 9ms/step - loss: 2.5259e-04\n",
            "Epoch 20/60\n",
            "43/43 [==============================] - 0s 9ms/step - loss: 2.4942e-04\n",
            "Epoch 21/60\n",
            "43/43 [==============================] - 0s 9ms/step - loss: 2.3726e-04\n",
            "Epoch 22/60\n",
            "43/43 [==============================] - 0s 9ms/step - loss: 2.1869e-04\n",
            "Epoch 23/60\n",
            "43/43 [==============================] - 0s 8ms/step - loss: 2.2795e-04\n",
            "Epoch 24/60\n",
            "43/43 [==============================] - 0s 9ms/step - loss: 2.0647e-04\n",
            "Epoch 25/60\n",
            "43/43 [==============================] - 0s 9ms/step - loss: 2.3087e-04\n",
            "Epoch 26/60\n",
            "43/43 [==============================] - 0s 9ms/step - loss: 2.0632e-04\n",
            "Epoch 27/60\n",
            "43/43 [==============================] - 0s 9ms/step - loss: 1.9030e-04\n",
            "Epoch 28/60\n",
            "43/43 [==============================] - 0s 9ms/step - loss: 2.0097e-04\n",
            "Epoch 29/60\n",
            "43/43 [==============================] - 0s 8ms/step - loss: 1.7558e-04\n",
            "Epoch 30/60\n",
            "43/43 [==============================] - 0s 9ms/step - loss: 1.7900e-04\n",
            "Epoch 31/60\n",
            "43/43 [==============================] - 0s 9ms/step - loss: 1.7818e-04\n",
            "Epoch 32/60\n",
            "43/43 [==============================] - 0s 9ms/step - loss: 1.6365e-04\n",
            "Epoch 33/60\n",
            "43/43 [==============================] - 0s 9ms/step - loss: 1.7523e-04\n",
            "Epoch 34/60\n",
            "43/43 [==============================] - 0s 9ms/step - loss: 1.7517e-04\n",
            "Epoch 35/60\n",
            "43/43 [==============================] - 0s 9ms/step - loss: 1.4898e-04\n",
            "Epoch 36/60\n",
            "43/43 [==============================] - 0s 9ms/step - loss: 1.3996e-04\n",
            "Epoch 37/60\n",
            "43/43 [==============================] - 0s 9ms/step - loss: 1.4119e-04\n",
            "Epoch 38/60\n",
            "43/43 [==============================] - 0s 9ms/step - loss: 1.4399e-04\n",
            "Epoch 39/60\n",
            "43/43 [==============================] - 0s 9ms/step - loss: 1.3837e-04\n",
            "Epoch 40/60\n",
            "43/43 [==============================] - 0s 9ms/step - loss: 1.3187e-04\n",
            "Epoch 41/60\n",
            "43/43 [==============================] - 0s 8ms/step - loss: 1.3292e-04\n",
            "Epoch 42/60\n",
            "43/43 [==============================] - 0s 9ms/step - loss: 1.3176e-04\n",
            "Epoch 43/60\n",
            "43/43 [==============================] - 0s 9ms/step - loss: 1.2531e-04\n",
            "Epoch 44/60\n",
            "43/43 [==============================] - 0s 9ms/step - loss: 1.2060e-04\n",
            "Epoch 45/60\n",
            "43/43 [==============================] - 0s 9ms/step - loss: 1.1731e-04\n",
            "Epoch 46/60\n",
            "43/43 [==============================] - 0s 8ms/step - loss: 1.2105e-04\n",
            "Epoch 47/60\n",
            "43/43 [==============================] - 0s 9ms/step - loss: 1.1204e-04\n",
            "Epoch 48/60\n",
            "43/43 [==============================] - 0s 9ms/step - loss: 1.1250e-04\n",
            "Epoch 49/60\n",
            "43/43 [==============================] - 0s 9ms/step - loss: 1.1081e-04\n",
            "Epoch 50/60\n",
            "43/43 [==============================] - 0s 9ms/step - loss: 1.1973e-04\n",
            "Epoch 51/60\n",
            "43/43 [==============================] - 0s 9ms/step - loss: 1.1601e-04\n",
            "Epoch 52/60\n",
            "43/43 [==============================] - 0s 9ms/step - loss: 1.1360e-04\n",
            "Epoch 53/60\n",
            "43/43 [==============================] - 0s 9ms/step - loss: 1.0432e-04\n",
            "Epoch 54/60\n",
            "43/43 [==============================] - 0s 9ms/step - loss: 1.1178e-04\n",
            "Epoch 55/60\n",
            "43/43 [==============================] - 0s 9ms/step - loss: 9.8769e-05\n",
            "Epoch 56/60\n",
            "43/43 [==============================] - 0s 9ms/step - loss: 1.1185e-04\n",
            "Epoch 57/60\n",
            "43/43 [==============================] - 0s 9ms/step - loss: 1.0092e-04\n",
            "Epoch 58/60\n",
            "43/43 [==============================] - 0s 9ms/step - loss: 1.0018e-04\n",
            "Epoch 59/60\n",
            "43/43 [==============================] - 0s 8ms/step - loss: 9.8357e-05\n",
            "Epoch 60/60\n",
            "43/43 [==============================] - 0s 9ms/step - loss: 1.0865e-04\n"
          ]
        }
      ]
    },
    {
      "cell_type": "code",
      "source": [
        "past_60_days = data_training.tail(60)\n",
        "\n",
        "data_testing.shape"
      ],
      "metadata": {
        "colab": {
          "base_uri": "https://localhost:8080/"
        },
        "id": "bUGroYcfh1WX",
        "outputId": "7906a059-a7c1-4b24-8c6f-a3f355b10870"
      },
      "execution_count": 51,
      "outputs": [
        {
          "output_type": "execute_result",
          "data": {
            "text/plain": [
              "(251, 7)"
            ]
          },
          "metadata": {},
          "execution_count": 51
        }
      ]
    },
    {
      "cell_type": "code",
      "source": [
        "df= past_60_days.append (data_testing, ignore_index= True)\n",
        "df.shape"
      ],
      "metadata": {
        "colab": {
          "base_uri": "https://localhost:8080/"
        },
        "id": "gwpgv0LYh3La",
        "outputId": "36d70790-e74b-4b22-8584-0a8f6ab44e0a"
      },
      "execution_count": 52,
      "outputs": [
        {
          "output_type": "execute_result",
          "data": {
            "text/plain": [
              "(311, 7)"
            ]
          },
          "metadata": {},
          "execution_count": 52
        }
      ]
    },
    {
      "cell_type": "code",
      "source": [
        "df = df.drop (['Close','Name','Open','Date','Low','Volume'], axis =1)\n"
      ],
      "metadata": {
        "id": "LYPv8rtAh4Ii"
      },
      "execution_count": 53,
      "outputs": []
    },
    {
      "cell_type": "code",
      "source": [
        "df.head()"
      ],
      "metadata": {
        "colab": {
          "base_uri": "https://localhost:8080/",
          "height": 206
        },
        "id": "C7eGrHz6h41L",
        "outputId": "879b2ead-66c8-4d3b-d27f-ae00390111e0"
      },
      "execution_count": 54,
      "outputs": [
        {
          "output_type": "execute_result",
          "data": {
            "text/plain": [
              "    High\n",
              "0  43.82\n",
              "1  43.68\n",
              "2  44.07\n",
              "3  44.08\n",
              "4  42.78"
            ],
            "text/html": [
              "\n",
              "  <div id=\"df-63823b18-18db-4454-86fe-46b34312b341\">\n",
              "    <div class=\"colab-df-container\">\n",
              "      <div>\n",
              "<style scoped>\n",
              "    .dataframe tbody tr th:only-of-type {\n",
              "        vertical-align: middle;\n",
              "    }\n",
              "\n",
              "    .dataframe tbody tr th {\n",
              "        vertical-align: top;\n",
              "    }\n",
              "\n",
              "    .dataframe thead th {\n",
              "        text-align: right;\n",
              "    }\n",
              "</style>\n",
              "<table border=\"1\" class=\"dataframe\">\n",
              "  <thead>\n",
              "    <tr style=\"text-align: right;\">\n",
              "      <th></th>\n",
              "      <th>High</th>\n",
              "    </tr>\n",
              "  </thead>\n",
              "  <tbody>\n",
              "    <tr>\n",
              "      <th>0</th>\n",
              "      <td>43.82</td>\n",
              "    </tr>\n",
              "    <tr>\n",
              "      <th>1</th>\n",
              "      <td>43.68</td>\n",
              "    </tr>\n",
              "    <tr>\n",
              "      <th>2</th>\n",
              "      <td>44.07</td>\n",
              "    </tr>\n",
              "    <tr>\n",
              "      <th>3</th>\n",
              "      <td>44.08</td>\n",
              "    </tr>\n",
              "    <tr>\n",
              "      <th>4</th>\n",
              "      <td>42.78</td>\n",
              "    </tr>\n",
              "  </tbody>\n",
              "</table>\n",
              "</div>\n",
              "      <button class=\"colab-df-convert\" onclick=\"convertToInteractive('df-63823b18-18db-4454-86fe-46b34312b341')\"\n",
              "              title=\"Convert this dataframe to an interactive table.\"\n",
              "              style=\"display:none;\">\n",
              "        \n",
              "  <svg xmlns=\"http://www.w3.org/2000/svg\" height=\"24px\"viewBox=\"0 0 24 24\"\n",
              "       width=\"24px\">\n",
              "    <path d=\"M0 0h24v24H0V0z\" fill=\"none\"/>\n",
              "    <path d=\"M18.56 5.44l.94 2.06.94-2.06 2.06-.94-2.06-.94-.94-2.06-.94 2.06-2.06.94zm-11 1L8.5 8.5l.94-2.06 2.06-.94-2.06-.94L8.5 2.5l-.94 2.06-2.06.94zm10 10l.94 2.06.94-2.06 2.06-.94-2.06-.94-.94-2.06-.94 2.06-2.06.94z\"/><path d=\"M17.41 7.96l-1.37-1.37c-.4-.4-.92-.59-1.43-.59-.52 0-1.04.2-1.43.59L10.3 9.45l-7.72 7.72c-.78.78-.78 2.05 0 2.83L4 21.41c.39.39.9.59 1.41.59.51 0 1.02-.2 1.41-.59l7.78-7.78 2.81-2.81c.8-.78.8-2.07 0-2.86zM5.41 20L4 18.59l7.72-7.72 1.47 1.35L5.41 20z\"/>\n",
              "  </svg>\n",
              "      </button>\n",
              "      \n",
              "  <style>\n",
              "    .colab-df-container {\n",
              "      display:flex;\n",
              "      flex-wrap:wrap;\n",
              "      gap: 12px;\n",
              "    }\n",
              "\n",
              "    .colab-df-convert {\n",
              "      background-color: #E8F0FE;\n",
              "      border: none;\n",
              "      border-radius: 50%;\n",
              "      cursor: pointer;\n",
              "      display: none;\n",
              "      fill: #1967D2;\n",
              "      height: 32px;\n",
              "      padding: 0 0 0 0;\n",
              "      width: 32px;\n",
              "    }\n",
              "\n",
              "    .colab-df-convert:hover {\n",
              "      background-color: #E2EBFA;\n",
              "      box-shadow: 0px 1px 2px rgba(60, 64, 67, 0.3), 0px 1px 3px 1px rgba(60, 64, 67, 0.15);\n",
              "      fill: #174EA6;\n",
              "    }\n",
              "\n",
              "    [theme=dark] .colab-df-convert {\n",
              "      background-color: #3B4455;\n",
              "      fill: #D2E3FC;\n",
              "    }\n",
              "\n",
              "    [theme=dark] .colab-df-convert:hover {\n",
              "      background-color: #434B5C;\n",
              "      box-shadow: 0px 1px 3px 1px rgba(0, 0, 0, 0.15);\n",
              "      filter: drop-shadow(0px 1px 2px rgba(0, 0, 0, 0.3));\n",
              "      fill: #FFFFFF;\n",
              "    }\n",
              "  </style>\n",
              "\n",
              "      <script>\n",
              "        const buttonEl =\n",
              "          document.querySelector('#df-63823b18-18db-4454-86fe-46b34312b341 button.colab-df-convert');\n",
              "        buttonEl.style.display =\n",
              "          google.colab.kernel.accessAllowed ? 'block' : 'none';\n",
              "\n",
              "        async function convertToInteractive(key) {\n",
              "          const element = document.querySelector('#df-63823b18-18db-4454-86fe-46b34312b341');\n",
              "          const dataTable =\n",
              "            await google.colab.kernel.invokeFunction('convertToInteractive',\n",
              "                                                     [key], {});\n",
              "          if (!dataTable) return;\n",
              "\n",
              "          const docLinkHtml = 'Like what you see? Visit the ' +\n",
              "            '<a target=\"_blank\" href=https://colab.research.google.com/notebooks/data_table.ipynb>data table notebook</a>'\n",
              "            + ' to learn more about interactive tables.';\n",
              "          element.innerHTML = '';\n",
              "          dataTable['output_type'] = 'display_data';\n",
              "          await google.colab.output.renderOutput(dataTable, element);\n",
              "          const docLink = document.createElement('div');\n",
              "          docLink.innerHTML = docLinkHtml;\n",
              "          element.appendChild(docLink);\n",
              "        }\n",
              "      </script>\n",
              "    </div>\n",
              "  </div>\n",
              "  "
            ]
          },
          "metadata": {},
          "execution_count": 54
        }
      ]
    },
    {
      "cell_type": "code",
      "source": [
        "inputs = scaler.transform(df)\n",
        "# inputs\n"
      ],
      "metadata": {
        "id": "RdjtJ2lUh5-A"
      },
      "execution_count": 55,
      "outputs": []
    },
    {
      "cell_type": "code",
      "source": [
        "inputs"
      ],
      "metadata": {
        "colab": {
          "base_uri": "https://localhost:8080/"
        },
        "id": "qskhdeDxgoQS",
        "outputId": "00aa03ff-4700-4e3d-9a1b-4c4bddc818e0"
      },
      "execution_count": 56,
      "outputs": [
        {
          "output_type": "execute_result",
          "data": {
            "text/plain": [
              "array([[0.53849773],\n",
              "       [0.53630234],\n",
              "       [0.54241806],\n",
              "       [0.54257488],\n",
              "       [0.52218912],\n",
              "       [0.51121217],\n",
              "       [0.513878  ],\n",
              "       [0.50901678],\n",
              "       [0.51936647],\n",
              "       [0.52469813],\n",
              "       [0.5207778 ],\n",
              "       [0.51309393],\n",
              "       [0.52062098],\n",
              "       [0.52171868],\n",
              "       [0.51685746],\n",
              "       [0.51764152],\n",
              "       [0.51340756],\n",
              "       [0.51246668],\n",
              "       [0.49960797],\n",
              "       [0.51246668],\n",
              "       [0.49035597],\n",
              "       [0.48910146],\n",
              "       [0.49788302],\n",
              "       [0.49866708],\n",
              "       [0.50039203],\n",
              "       [0.50446919],\n",
              "       [0.48674926],\n",
              "       [0.48471068],\n",
              "       [0.48565156],\n",
              "       [0.49506037],\n",
              "       [0.50446919],\n",
              "       [0.50446919],\n",
              "       [0.50180336],\n",
              "       [0.50054885],\n",
              "       [0.49396268],\n",
              "       [0.49553081],\n",
              "       [0.50525325],\n",
              "       [0.50729183],\n",
              "       [0.50478281],\n",
              "       [0.49490356],\n",
              "       [0.48361298],\n",
              "       [0.48471068],\n",
              "       [0.48518112],\n",
              "       [0.48753332],\n",
              "       [0.50368512],\n",
              "       [0.50682139],\n",
              "       [0.50258742],\n",
              "       [0.50666458],\n",
              "       [0.50258742],\n",
              "       [0.47859495],\n",
              "       [0.46636349],\n",
              "       [0.45962051],\n",
              "       [0.46573624],\n",
              "       [0.46793163],\n",
              "       [0.45962051],\n",
              "       [0.45993414],\n",
              "       [0.46385448],\n",
              "       [0.46636349],\n",
              "       [0.4618159 ],\n",
              "       [0.4629136 ],\n",
              "       [0.46573624],\n",
              "       [0.48251529],\n",
              "       [0.50007841],\n",
              "       [0.49960797],\n",
              "       [0.504626  ],\n",
              "       [0.51575976],\n",
              "       [0.51920966],\n",
              "       [0.51717108],\n",
              "       [0.51717108],\n",
              "       [0.5127803 ],\n",
              "       [0.51230986],\n",
              "       [0.51293712],\n",
              "       [0.51842559],\n",
              "       [0.51701427],\n",
              "       [0.54477027],\n",
              "       [0.55700172],\n",
              "       [0.55825623],\n",
              "       [0.55245413],\n",
              "       [0.54477027],\n",
              "       [0.54367257],\n",
              "       [0.54539752],\n",
              "       [0.54132037],\n",
              "       [0.54116356],\n",
              "       [0.54963149],\n",
              "       [0.55057237],\n",
              "       [0.55998118],\n",
              "       [0.56076525],\n",
              "       [0.56060844],\n",
              "       [0.5659401 ],\n",
              "       [0.56609691],\n",
              "       [0.58397366],\n",
              "       [0.56782186],\n",
              "       [0.56233339],\n",
              "       [0.56656735],\n",
              "       [0.57801474],\n",
              "       [0.57487847],\n",
              "       [0.56562647],\n",
              "       [0.56860593],\n",
              "       [0.56876274],\n",
              "       [0.57911244],\n",
              "       [0.57472166],\n",
              "       [0.57268308],\n",
              "       [0.56782186],\n",
              "       [0.57142857],\n",
              "       [0.57566254],\n",
              "       [0.57456484],\n",
              "       [0.57581935],\n",
              "       [0.58836443],\n",
              "       [0.58460091],\n",
              "       [0.58130782],\n",
              "       [0.58240552],\n",
              "       [0.5867963 ],\n",
              "       [0.59087345],\n",
              "       [0.59134389],\n",
              "       [0.57487847],\n",
              "       [0.58491454],\n",
              "       [0.58616905],\n",
              "       [0.58021013],\n",
              "       [0.58460091],\n",
              "       [0.58585542],\n",
              "       [0.58899169],\n",
              "       [0.58366003],\n",
              "       [0.58601223],\n",
              "       [0.58005332],\n",
              "       [0.58710993],\n",
              "       [0.57942606],\n",
              "       [0.5809942 ],\n",
              "       [0.5949506 ],\n",
              "       [0.59165752],\n",
              "       [0.59087345],\n",
              "       [0.59008938],\n",
              "       [0.5949506 ],\n",
              "       [0.59996864],\n",
              "       [0.60216403],\n",
              "       [0.60153677],\n",
              "       [0.60043908],\n",
              "       [0.60718206],\n",
              "       [0.61125921],\n",
              "       [0.61141603],\n",
              "       [0.61141603],\n",
              "       [0.61188647],\n",
              "       [0.61627725],\n",
              "       [0.62443155],\n",
              "       [0.6227066 ],\n",
              "       [0.61470911],\n",
              "       [0.61439548],\n",
              "       [0.61909989],\n",
              "       [0.63023365],\n",
              "       [0.62913596],\n",
              "       [0.63086091],\n",
              "       [0.63148816],\n",
              "       [0.63446762],\n",
              "       [0.65297162],\n",
              "       [0.64638545],\n",
              "       [0.63587894],\n",
              "       [0.65469657],\n",
              "       [0.65234436],\n",
              "       [0.64952172],\n",
              "       [0.6446605 ],\n",
              "       [0.64716952],\n",
              "       [0.6470127 ],\n",
              "       [0.65014897],\n",
              "       [0.64560138],\n",
              "       [0.64638545],\n",
              "       [0.64716952],\n",
              "       [0.64920809],\n",
              "       [0.64732633],\n",
              "       [0.64669907],\n",
              "       [0.72855575],\n",
              "       [0.75129371],\n",
              "       [0.70675866],\n",
              "       [0.69938843],\n",
              "       [0.70221107],\n",
              "       [0.67868904],\n",
              "       [0.68715697],\n",
              "       [0.71428571],\n",
              "       [0.71224714],\n",
              "       [0.7164811 ],\n",
              "       [0.72087188],\n",
              "       [0.71365846],\n",
              "       [0.72322409],\n",
              "       [0.70958131],\n",
              "       [0.71538341],\n",
              "       [0.71256077],\n",
              "       [0.70958131],\n",
              "       [0.71773561],\n",
              "       [0.72698761],\n",
              "       [0.71695154],\n",
              "       [0.71240395],\n",
              "       [0.71350165],\n",
              "       [0.71930375],\n",
              "       [0.738435  ],\n",
              "       [0.74015995],\n",
              "       [0.75160734],\n",
              "       [0.75897758],\n",
              "       [0.77246354],\n",
              "       [0.78171554],\n",
              "       [0.76995452],\n",
              "       [0.76713188],\n",
              "       [0.76870002],\n",
              "       [0.76650463],\n",
              "       [0.77701113],\n",
              "       [0.79567195],\n",
              "       [0.78657676],\n",
              "       [0.7904971 ],\n",
              "       [0.77340442],\n",
              "       [0.78046103],\n",
              "       [0.76603419],\n",
              "       [0.76979771],\n",
              "       [0.79473106],\n",
              "       [0.79912184],\n",
              "       [0.79143798],\n",
              "       [0.78453818],\n",
              "       [0.76446605],\n",
              "       [0.77685432],\n",
              "       [0.79441744],\n",
              "       [0.8055512 ],\n",
              "       [0.84647954],\n",
              "       [0.85024306],\n",
              "       [0.85494747],\n",
              "       [0.87878313],\n",
              "       [0.88631018],\n",
              "       [0.88944645],\n",
              "       [0.87941038],\n",
              "       [0.86169045],\n",
              "       [0.85055669],\n",
              "       [0.86404265],\n",
              "       [0.8668653 ],\n",
              "       [0.86090638],\n",
              "       [0.85965187],\n",
              "       [0.85933825],\n",
              "       [0.85777011],\n",
              "       [0.86027913],\n",
              "       [0.87470597],\n",
              "       [0.88050808],\n",
              "       [0.89744394],\n",
              "       [0.9004234 ],\n",
              "       [0.89665987],\n",
              "       [0.90638231],\n",
              "       [0.91155716],\n",
              "       [0.91124353],\n",
              "       [0.90544143],\n",
              "       [0.90810726],\n",
              "       [0.90199153],\n",
              "       [0.88348753],\n",
              "       [0.89054414],\n",
              "       [0.88928963],\n",
              "       [0.8958758 ],\n",
              "       [0.9016779 ],\n",
              "       [0.91657519],\n",
              "       [0.92112279],\n",
              "       [0.91924102],\n",
              "       [0.9189274 ],\n",
              "       [0.93429512],\n",
              "       [0.94135173],\n",
              "       [0.93931316],\n",
              "       [0.93696095],\n",
              "       [0.92049553],\n",
              "       [0.91971146],\n",
              "       [0.91924102],\n",
              "       [0.91830014],\n",
              "       [0.91045946],\n",
              "       [0.92331817],\n",
              "       [0.91767289],\n",
              "       [0.9051278 ],\n",
              "       [0.90261879],\n",
              "       [0.88646699],\n",
              "       [0.91343892],\n",
              "       [0.93272699],\n",
              "       [0.95326956],\n",
              "       [0.97067587],\n",
              "       [0.98776854],\n",
              "       [0.97098949],\n",
              "       [0.97977105],\n",
              "       [0.98776854],\n",
              "       [0.98353458],\n",
              "       [0.95969892],\n",
              "       [0.9606398 ],\n",
              "       [0.97083268],\n",
              "       [0.9513878 ],\n",
              "       [0.94197899],\n",
              "       [0.96816685],\n",
              "       [0.97051905],\n",
              "       [0.98870942],\n",
              "       [0.99827505],\n",
              "       [1.        ],\n",
              "       [0.99890231],\n",
              "       [0.99796142],\n",
              "       [0.98792536],\n",
              "       [0.9756939 ],\n",
              "       [0.96220793],\n",
              "       [0.96863729],\n",
              "       [0.97004861],\n",
              "       [0.93931316],\n",
              "       [0.94307668],\n",
              "       [0.95907166],\n",
              "       [0.97459621],\n",
              "       [0.98180963],\n",
              "       [0.96706915],\n",
              "       [0.97663478],\n",
              "       [0.95875804],\n",
              "       [0.95750353],\n",
              "       [0.9606398 ],\n",
              "       [0.95468088],\n",
              "       [0.96550102],\n",
              "       [0.98306414],\n",
              "       [0.97835973],\n",
              "       [0.97083268],\n",
              "       [0.95671946],\n",
              "       [0.95405363],\n",
              "       [0.95107417]])"
            ]
          },
          "metadata": {},
          "execution_count": 56
        }
      ]
    },
    {
      "cell_type": "code",
      "source": [
        "X_test = []\n",
        "y_test = []\n",
        "\n",
        "for i in range (60, inputs.shape[0]):\n",
        "  X_test.append (inputs[i-60:i,0])\n",
        "  y_test.append (inputs[i,0])"
      ],
      "metadata": {
        "id": "fF3aJXABh7pj"
      },
      "execution_count": 57,
      "outputs": []
    },
    {
      "cell_type": "code",
      "source": [
        "X_test, y_test = np.array (X_test), np.array(y_test)\n",
        "X_test.shape, y_test.shape\n"
      ],
      "metadata": {
        "colab": {
          "base_uri": "https://localhost:8080/"
        },
        "id": "56YLkOqth9EA",
        "outputId": "2d9ab5ca-5104-4ef7-a532-17189a6e48f6"
      },
      "execution_count": 58,
      "outputs": [
        {
          "output_type": "execute_result",
          "data": {
            "text/plain": [
              "((251, 60), (251,))"
            ]
          },
          "metadata": {},
          "execution_count": 58
        }
      ]
    },
    {
      "cell_type": "code",
      "source": [
        "\n",
        "y_pred = regressor.predict(X_test)\n",
        "y_pred2 = regressor2.predict(X_test)\n",
        "\n",
        "y_pred3 = regressor3.predict(X_test)\n",
        "\n",
        "y_pred4 = regressor4.predict(X_test)\n",
        "\n",
        "y_pred5 = regressor5.predict(X_test)\n",
        "\n",
        "y_pred6 = regressor6.predict(X_test)\n",
        "\n",
        "y_pred6.shape\n",
        "\n",
        "# y_test.shape"
      ],
      "metadata": {
        "colab": {
          "base_uri": "https://localhost:8080/"
        },
        "id": "_hGgkHLFh96M",
        "outputId": "a9cf28e6-7bd1-44d0-cb0b-3e49908f9670"
      },
      "execution_count": 59,
      "outputs": [
        {
          "output_type": "stream",
          "name": "stdout",
          "text": [
            "8/8 [==============================] - 0s 4ms/step\n",
            "8/8 [==============================] - 0s 3ms/step\n",
            "8/8 [==============================] - 0s 3ms/step\n",
            "8/8 [==============================] - 0s 6ms/step\n",
            "8/8 [==============================] - 1s 5ms/step\n",
            "8/8 [==============================] - 0s 5ms/step\n"
          ]
        },
        {
          "output_type": "execute_result",
          "data": {
            "text/plain": [
              "(251, 1)"
            ]
          },
          "metadata": {},
          "execution_count": 59
        }
      ]
    },
    {
      "cell_type": "code",
      "source": [
        "def msefunc(pred, test):\n",
        "  print(pred.shape)\n",
        "  pred=pred.reshape(y_pred.shape[0])\n",
        "  errors = pred - test\n",
        "  mse = np.square(errors).mean()\n",
        "  print(mse)\n",
        "\n",
        "print('LSTM معماری 1 لایه با یونیت های  کمتر')\n",
        "msefunc(y_pred3,y_test)\n",
        "\n",
        "print('LSTM معماری 1 لایه با یونیت های  بیشتر')\n",
        "msefunc(y_pred2,y_test)\n",
        "\n",
        "print('LSTM معماری 2 لایه')\n",
        "msefunc(y_pred,y_test)\n",
        "\n",
        "print('LSTM معماری 2 لایه با سایز دسته یا بچ سایز کمتر')\n",
        "msefunc(y_pred5,y_test)\n",
        "\n",
        "print('LSTM معماری 2 لایه با سایز دسته یا بچ سایز بیشتر')\n",
        "msefunc(y_pred6,y_test)\n"
      ],
      "metadata": {
        "colab": {
          "base_uri": "https://localhost:8080/"
        },
        "id": "w7a9C82Qh-9r",
        "outputId": "26f121fc-681e-4846-f7c0-302292f0e2ba"
      },
      "execution_count": 60,
      "outputs": [
        {
          "output_type": "stream",
          "name": "stdout",
          "text": [
            "LSTM معماری 1 لایه با یونیت های  کمتر\n",
            "(251, 1)\n",
            "0.00031277679480563425\n",
            "LSTM معماری 1 لایه با یونیت های  بیشتر\n",
            "(251, 1)\n",
            "0.00016979542788538856\n",
            "LSTM معماری 2 لایه\n",
            "(251, 1)\n",
            "0.00024795484649500966\n",
            "LSTM معماری 2 لایه با سایز دسته یا بچ سایز کمتر\n",
            "(251, 1)\n",
            "0.0002893398785921067\n",
            "LSTM معماری 2 لایه با سایز دسته یا بچ سایز بیشتر\n",
            "(251, 1)\n",
            "0.00013893970570961833\n"
          ]
        }
      ]
    },
    {
      "cell_type": "code",
      "source": [
        "plt.figure(figsize=(14,5))\n",
        "plt.plot(y_test, color = 'red', label = 'Real Stock Price')\n",
        "plt.plot(y_pred, color = 'blue', label = 'پیشبینی معماری با 2 لایه')\n",
        "plt.plot(y_pred2, color = 'green', label = 'پیشبینی معماری 1 لایه با یونیت های بیشتر')\n",
        "plt.plot(y_pred3, color = 'black', label = 'پیشبینی یک لایه با یونیت های کمتر')\n",
        "plt.plot(y_pred5, color = 'purple', label = 'پیشبینی 2 لایه با بچ کمتر')\n",
        "plt.plot(y_pred6, color = 'orange', label = 'پیشبینی 2 لایه با بچ بیشتر')\n",
        "plt.title('Stock Price Prediction LSTM')\n",
        "plt.xlabel('Time')\n",
        "plt.ylabel('Stock Price')\n",
        "plt.legend()\n",
        "plt.show()"
      ],
      "metadata": {
        "colab": {
          "base_uri": "https://localhost:8080/",
          "height": 350
        },
        "id": "q_g5wLTaiAy8",
        "outputId": "2691329d-6db3-4c5c-d529-9e6491af1387"
      },
      "execution_count": 61,
      "outputs": [
        {
          "output_type": "display_data",
          "data": {
            "text/plain": [
              "<Figure size 1008x360 with 1 Axes>"
            ],
            "image/png": "[encoded data removed]"
          },
          "metadata": {
            "needs_background": "light"
          }
        }
      ]
    },
    {
      "cell_type": "code",
      "source": [
        "plt.figure(figsize=(14,5))\n",
        "plt.plot(history.history['loss'], color = 'blue', label = 'پیشبینی معماری با 2 لایه')\n",
        "plt.plot(history2.history['loss'], color = 'green', label = 'پیشبینی معماری 1 لایه با یونیت های بیشتر')\n",
        "plt.plot(history3.history['loss'], color = 'black', label = 'پیشبینی 1 لایه با یونیت های کمتر')\n",
        "plt.plot(history5.history['loss'], color = 'purple', label = 'پیشبینی 2 لایه با بچ کمتر')\n",
        "plt.plot(history6.history['loss'], color = 'orange', label = 'پیشبینی 2 لایه با بچ بیشتر')\n",
        "plt.title('Stock Price Prediction LSTM')\n",
        "plt.xlabel('Time')\n",
        "plt.ylabel('Stock Price')\n",
        "plt.legend()\n",
        "plt.show()"
      ],
      "metadata": {
        "colab": {
          "base_uri": "https://localhost:8080/",
          "height": 346
        },
        "id": "uRkjpCcTP91Q",
        "outputId": "3abfc9d2-b934-4949-df4c-da129f7de454"
      },
      "execution_count": 62,
      "outputs": [
        {
          "output_type": "display_data",
          "data": {
            "text/plain": [
              "<Figure size 1008x360 with 1 Axes>"
            ],
            "image/png": "[encoded data removed]"
          },
          "metadata": {
            "needs_background": "light"
          }
        }
      ]
    },
    {
      "cell_type": "code",
      "source": [
        "plt.figure(figsize=(14,5))\n",
        "plt.plot(y_test, color = 'red', label = 'Real Stock Price')\n",
        "plt.plot(y_pred3, color = 'green', label = 'پیشبینی معماری 1 لایه با یونیت های کمتر')\n",
        "plt.title('Stock Price Prediction LSTM')\n",
        "plt.xlabel('Time')\n",
        "plt.ylabel('Stock Price')\n",
        "plt.legend()\n",
        "plt.show()"
      ],
      "metadata": {
        "colab": {
          "base_uri": "https://localhost:8080/",
          "height": 350
        },
        "id": "-a6ckmt4waA6",
        "outputId": "c49b8958-67a5-4fab-e56b-22f1e7b7613c"
      },
      "execution_count": 63,
      "outputs": [
        {
          "output_type": "display_data",
          "data": {
            "text/plain": [
              "<Figure size 1008x360 with 1 Axes>"
            ],
            "image/png": "[encoded data removed]"
          },
          "metadata": {
            "needs_background": "light"
          }
        }
      ]
    },
    {
      "cell_type": "code",
      "source": [
        "plt.plot(history3.history['loss'], color = 'orange', label = 'پیشبینی 1 لایه با یونیت های کمتر')"
      ],
      "metadata": {
        "colab": {
          "base_uri": "https://localhost:8080/",
          "height": 282
        },
        "id": "5dGlrljOQN8K",
        "outputId": "5a61a0f0-49c8-4fb7-d1aa-70894f53b37a"
      },
      "execution_count": 64,
      "outputs": [
        {
          "output_type": "execute_result",
          "data": {
            "text/plain": [
              "[<matplotlib.lines.Line2D at 0x7f20b6d9bfa0>]"
            ]
          },
          "metadata": {},
          "execution_count": 64
        },
        {
          "output_type": "display_data",
          "data": {
            "text/plain": [
              "<Figure size 432x288 with 1 Axes>"
            ],
            "image/png": "[encoded data removed]"
          },
          "metadata": {
            "needs_background": "light"
          }
        }
      ]
    },
    {
      "cell_type": "code",
      "source": [
        "plt.figure(figsize=(14,5))\n",
        "plt.plot(y_test, color = 'red', label = 'Real Stock Price')\n",
        "plt.plot(y_pred2, color = 'green', label = 'پیشبینی معماری 1 لایه با یونیت های بیشتر')\n",
        "plt.title('Stock Price Prediction LSTM')\n",
        "plt.xlabel('Time')\n",
        "plt.ylabel('Stock Price')\n",
        "plt.legend()\n",
        "plt.show()"
      ],
      "metadata": {
        "colab": {
          "base_uri": "https://localhost:8080/",
          "height": 350
        },
        "id": "hTJMrYrZoRcH",
        "outputId": "230b2206-6fae-474b-be42-d080fffb9ba8"
      },
      "execution_count": 65,
      "outputs": [
        {
          "output_type": "display_data",
          "data": {
            "text/plain": [
              "<Figure size 1008x360 with 1 Axes>"
            ],
            "image/png": "[encoded data removed]"
          },
          "metadata": {
            "needs_background": "light"
          }
        }
      ]
    },
    {
      "cell_type": "code",
      "source": [
        "plt.plot(history2.history['loss'], color = 'orange', label = 'پیشبینی یک لایه با یونیت های بیشتر')"
      ],
      "metadata": {
        "colab": {
          "base_uri": "https://localhost:8080/",
          "height": 282
        },
        "id": "E2J9iTtYQVng",
        "outputId": "405b1b30-6a3c-42f7-d5e4-019d27b0a2d0"
      },
      "execution_count": 66,
      "outputs": [
        {
          "output_type": "execute_result",
          "data": {
            "text/plain": [
              "[<matplotlib.lines.Line2D at 0x7f20b6cee640>]"
            ]
          },
          "metadata": {},
          "execution_count": 66
        },
        {
          "output_type": "display_data",
          "data": {
            "text/plain": [
              "<Figure size 432x288 with 1 Axes>"
            ],
            "image/png": "[encoded data removed]"
          },
          "metadata": {
            "needs_background": "light"
          }
        }
      ]
    },
    {
      "cell_type": "code",
      "source": [
        "plt.figure(figsize=(14,5))\n",
        "plt.plot(y_test, color = 'red', label = 'Real Stock Price')\n",
        "plt.plot(y_pred, color = 'blue', label = 'پیشبینی معماری با 2 لایه')\n",
        "\n",
        "plt.title('Stock Price Prediction LSTM')\n",
        "plt.xlabel('Time')\n",
        "plt.ylabel('Stock Price')\n",
        "plt.legend()\n",
        "plt.show()"
      ],
      "metadata": {
        "colab": {
          "base_uri": "https://localhost:8080/",
          "height": 350
        },
        "id": "IzjAJFlViCZr",
        "outputId": "b07cb69b-83f9-41f6-8d5e-cfcae54a8f4e"
      },
      "execution_count": 67,
      "outputs": [
        {
          "output_type": "display_data",
          "data": {
            "text/plain": [
              "<Figure size 1008x360 with 1 Axes>"
            ],
            "image/png": "[encoded data removed]"
          },
          "metadata": {
            "needs_background": "light"
          }
        }
      ]
    },
    {
      "cell_type": "code",
      "source": [
        "plt.plot(history.history['loss'], color = 'orange', label = 'پیشبینی 2 لایه')"
      ],
      "metadata": {
        "id": "bckOdCnPoUty",
        "colab": {
          "base_uri": "https://localhost:8080/",
          "height": 282
        },
        "outputId": "30ecf6d0-442b-4f8c-cb0c-f7c592ed2480"
      },
      "execution_count": 68,
      "outputs": [
        {
          "output_type": "execute_result",
          "data": {
            "text/plain": [
              "[<matplotlib.lines.Line2D at 0x7f20b6c09430>]"
            ]
          },
          "metadata": {},
          "execution_count": 68
        },
        {
          "output_type": "display_data",
          "data": {
            "text/plain": [
              "<Figure size 432x288 with 1 Axes>"
            ],
            "image/png": "[encoded data removed]"
          },
          "metadata": {
            "needs_background": "light"
          }
        }
      ]
    },
    {
      "cell_type": "code",
      "source": [
        "# plt.figure(figsize=(14,5))\n",
        "# plt.plot(y_test, color = 'red', label = 'Real Stock Price')\n",
        "\n",
        "# plt.plot(y_pred4, color = 'orange', label = 'پیشبینی یک لایه با یونیت های کمتر')\n",
        "# plt.title('Stock Price Prediction LSTM')\n",
        "# plt.xlabel('Time')\n",
        "# plt.ylabel('Stock Price')\n",
        "# plt.legend()\n",
        "# plt.show()"
      ],
      "metadata": {
        "id": "VoXMFfIGoWrF"
      },
      "execution_count": 69,
      "outputs": []
    },
    {
      "cell_type": "code",
      "source": [
        "plt.figure(figsize=(14,5))\n",
        "plt.plot(y_test, color = 'red', label = 'Real Stock Price')\n",
        "\n",
        "plt.plot(y_pred5, color = 'orange', label = 'پیشبینی 2 لایه با بچ کمتر')\n",
        "plt.title('Stock Price Prediction LSTM')\n",
        "plt.xlabel('Time')\n",
        "plt.ylabel('Stock Price')\n",
        "plt.legend()\n",
        "plt.show()"
      ],
      "metadata": {
        "colab": {
          "base_uri": "https://localhost:8080/",
          "height": 350
        },
        "id": "Fiy6NoZ6tQX4",
        "outputId": "788e687c-2c40-4c09-efba-b45285a90cb3"
      },
      "execution_count": 70,
      "outputs": [
        {
          "output_type": "display_data",
          "data": {
            "text/plain": [
              "<Figure size 1008x360 with 1 Axes>"
            ],
            "image/png": "[encoded data removed]"
          },
          "metadata": {
            "needs_background": "light"
          }
        }
      ]
    },
    {
      "cell_type": "code",
      "source": [
        "plt.plot(history5.history['loss'], color = 'orange', label = 'پیشبینی 2 لایه با بچ کمتر')"
      ],
      "metadata": {
        "colab": {
          "base_uri": "https://localhost:8080/",
          "height": 282
        },
        "id": "kKWqCjHAQdEW",
        "outputId": "d9be2cef-7ed1-4177-ce87-addb0f01bff0"
      },
      "execution_count": 74,
      "outputs": [
        {
          "output_type": "execute_result",
          "data": {
            "text/plain": [
              "[<matplotlib.lines.Line2D at 0x7f20b6a617c0>]"
            ]
          },
          "metadata": {},
          "execution_count": 74
        },
        {
          "output_type": "display_data",
          "data": {
            "text/plain": [
              "<Figure size 432x288 with 1 Axes>"
            ],
            "image/png": "[encoded data removed]"
          },
          "metadata": {
            "needs_background": "light"
          }
        }
      ]
    },
    {
      "cell_type": "code",
      "source": [
        "plt.figure(figsize=(14,5))\n",
        "plt.plot(y_test, color = 'red', label = 'Real Stock Price')\n",
        "\n",
        "plt.plot(y_pred6, color = 'orange', label = 'پیشبینی 2 لایه با بچ بیشتر')\n",
        "plt.title('Stock Price Prediction LSTM')\n",
        "plt.xlabel('Time')\n",
        "plt.ylabel('Stock Price')\n",
        "plt.legend()\n",
        "plt.show()"
      ],
      "metadata": {
        "colab": {
          "base_uri": "https://localhost:8080/",
          "height": 350
        },
        "id": "Qayj9QjHTxZf",
        "outputId": "ef3516d6-ef62-4a1a-a49c-bdbdc3e8d8fc"
      },
      "execution_count": 72,
      "outputs": [
        {
          "output_type": "display_data",
          "data": {
            "text/plain": [
              "<Figure size 1008x360 with 1 Axes>"
            ],
            "image/png": "[encoded data removed]"
          },
          "metadata": {
            "needs_background": "light"
          }
        }
      ]
    },
    {
      "cell_type": "code",
      "source": [
        "plt.plot(history6.history['loss'], color = 'orange', label = 'پیشبینی 2 لایه با بچ بیشتر')"
      ],
      "metadata": {
        "id": "WpIiAXRaTymA",
        "colab": {
          "base_uri": "https://localhost:8080/",
          "height": 282
        },
        "outputId": "974cbceb-16e1-4a01-a453-1afd73c0e01b"
      },
      "execution_count": 73,
      "outputs": [
        {
          "output_type": "execute_result",
          "data": {
            "text/plain": [
              "[<matplotlib.lines.Line2D at 0x7f20b6a92940>]"
            ]
          },
          "metadata": {},
          "execution_count": 73
        },
        {
          "output_type": "display_data",
          "data": {
            "text/plain": [
              "<Figure size 432x288 with 1 Axes>"
            ],
            "image/png": "[encoded data removed]"
          },
          "metadata": {
            "needs_background": "light"
          }
        }
      ]
    },
    {
      "cell_type": "code",
      "source": [
        "\n"
      ],
      "metadata": {
        "id": "qZucY38JOsUZ"
      },
      "execution_count": 49,
      "outputs": []
    },
    {
      "cell_type": "code",
      "source": [],
      "metadata": {
        "id": "Gk3eIgdbO_Ef"
      },
      "execution_count": 49,
      "outputs": []
    }
  ]
}